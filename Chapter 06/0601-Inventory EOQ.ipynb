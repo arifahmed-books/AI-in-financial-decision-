{
 "cells": [
  {
   "cell_type": "markdown",
   "id": "a51ebd1c-8268-4e3f-9ac4-e858ccdd72a1",
   "metadata": {},
   "source": [
    "## Import libraries\n"
   ]
  },
  {
   "cell_type": "code",
   "execution_count": 1,
   "id": "ec21fc2e-a22e-4ae8-b830-2a2b9aa8d619",
   "metadata": {},
   "outputs": [],
   "source": [
    "import numpy as np\n",
    "import pandas as pd\n",
    "import matplotlib.pyplot as plt\n",
    "import scipy.stats as stats\n",
    "%matplotlib inline\n"
   ]
  },
  {
   "cell_type": "markdown",
   "id": "40a22137-b510-41db-a7c0-fbc7df1c6735",
   "metadata": {},
   "source": [
    "### Customize"
   ]
  },
  {
   "cell_type": "code",
   "execution_count": 2,
   "id": "0d4468fc-0f2b-4d32-8186-580da5e2c4d9",
   "metadata": {},
   "outputs": [],
   "source": [
    "# Parameters for static EOQ\n",
    "annual_demand = 10000\n",
    "ordering_cost = 1200\n",
    "holding_cost = 1250  \n",
    "\n",
    "# Parameters for stochastic EOQ\n",
    "n_simulations = 10000\n",
    "\n",
    "# Input values of variation in decimal \n",
    "demand_fluctuation = 0.10\n",
    "ordering_cost_fluctuation = 0.10\n",
    "holding_cost_min = 1000\n",
    "holding_cost_max= 1500\n",
    "my_bin_size = 10\n",
    "\n",
    "#save output\n",
    "my_report=\"0601 Simulation_report.csv\"\n",
    "my_plot=\"0601 simulation_plot.png\""
   ]
  },
  {
   "cell_type": "markdown",
   "id": "a6ccf024-5e24-4dfc-a640-923b6fe5036d",
   "metadata": {},
   "source": [
    "## Computation of Static EOQ"
   ]
  },
  {
   "cell_type": "code",
   "execution_count": 3,
   "id": "2a7b4376-51be-4579-a85e-c09526892206",
   "metadata": {},
   "outputs": [
    {
     "name": "stdout",
     "output_type": "stream",
     "text": [
      "Static EOQ: 138.56 units\n"
     ]
    }
   ],
   "source": [
    "# Static EOQ Calculation\n",
    "def calculate_eoq_static(D, S, H):\n",
    "    return np.sqrt((2 * D * S) / H)\n",
    "\n",
    "eoq_static = calculate_eoq_static(annual_demand, ordering_cost, holding_cost)\n",
    "print(f\"Static EOQ: {eoq_static:.2f} units\")\n",
    "\n"
   ]
  },
  {
   "cell_type": "markdown",
   "id": "acd8d3eb-dab0-47dd-8002-29f15151273e",
   "metadata": {},
   "source": [
    "## Simulation"
   ]
  },
  {
   "cell_type": "code",
   "execution_count": 4,
   "id": "5be47027",
   "metadata": {},
   "outputs": [],
   "source": [
    "\n",
    "# Simulate EOQ under stochastic conditions\n",
    "\n",
    "# Assumed standard deviations\n",
    "demand_variation = demand_fluctuation * annual_demand\n",
    "ordering_cost_variation = ordering_cost_fluctuation * ordering_cost\n",
    "\n",
    "# Simulations\n",
    "np.random.seed(42)\n",
    "demand_sim = np.random.normal(loc=annual_demand, scale=demand_variation, size=n_simulations)\n",
    "ordering_cost_sim = np.random.normal(loc=ordering_cost, scale=ordering_cost_variation, size=n_simulations)\n",
    "holding_cost_sim = np.random.uniform(low=holding_cost_min, high=holding_cost_max, size=n_simulations)\n",
    "\n",
    "# Ensure no negative values\n",
    "demand_sim = np.maximum(demand_sim, 1)\n",
    "ordering_cost_sim = np.maximum(ordering_cost_sim, 1)\n",
    "holding_cost_sim = np.maximum(holding_cost_sim, 1)\n",
    "\n"
   ]
  },
  {
   "cell_type": "markdown",
   "id": "6d387ca4-eeb2-441c-90e6-592f60161c11",
   "metadata": {},
   "source": [
    "## Computation of Stochastic EOQ"
   ]
  },
  {
   "cell_type": "code",
   "execution_count": 5,
   "id": "760e2749-2264-431e-a946-4767083b1902",
   "metadata": {},
   "outputs": [],
   "source": [
    "# EOQ calculation\n",
    "eoq_simulated = np.sqrt((2 * demand_sim * ordering_cost_sim) / holding_cost_sim)\n",
    "\n",
    "# Summary statistics\n",
    "eoq_summary = {\n",
    "    '25th percentile': np.percentile(eoq_simulated, 25),\n",
    "    '50th percentile (median)': np.percentile(eoq_simulated, 50),\n",
    "    '75th percentile': np.percentile(eoq_simulated, 75),\n",
    "    '95th percentile': np.percentile(eoq_simulated, 95),\n",
    "    '99th percentile': np.percentile(eoq_simulated, 99)\n",
    "}\n"
   ]
  },
  {
   "cell_type": "code",
   "execution_count": 6,
   "id": "e31f92de-a4e2-40bf-94e8-263754019b81",
   "metadata": {},
   "outputs": [],
   "source": [
    "### Save simulation report"
   ]
  },
  {
   "cell_type": "code",
   "execution_count": 7,
   "id": "a1627dfe-35c9-4b0a-ab06-3edcefb3cfa0",
   "metadata": {},
   "outputs": [],
   "source": [
    "\n",
    "simulated_eoq_values = []\n",
    "\n",
    "for _ in range(n_simulations):\n",
    "    D_sim = np.random.normal(annual_demand, annual_demand * demand_fluctuation)\n",
    "    S_sim = np.random.normal(ordering_cost, ordering_cost * ordering_cost_fluctuation)\n",
    "    H_sim = holding_cost  \n",
    "    \n",
    "    eoq = calculate_eoq_static(D_sim, S_sim, H_sim)\n",
    "    \n",
    "    simulated_eoq_values.append({\n",
    "        \"Simulated_Demand\": D_sim,\n",
    "        \"Simulated_OrderingCost\": S_sim,\n",
    "        \"HoldingCost\": H_sim,\n",
    "        \"EOQ\": eoq\n",
    "    })\n",
    "\n",
    "# Convert to DataFrame\n",
    "df_simulation = pd.DataFrame(simulated_eoq_values)\n",
    "\n",
    "# Save to CSV\n",
    "df_simulation.to_csv(my_report, index=False)\n",
    "\n"
   ]
  },
  {
   "cell_type": "markdown",
   "id": "72e59e64-a97b-4487-a662-17eb87fd8609",
   "metadata": {},
   "source": [
    "## EOQ range output and Plotting"
   ]
  },
  {
   "cell_type": "code",
   "execution_count": 8,
   "id": "5f427089-7ef1-4fc3-a777-2b9696396db4",
   "metadata": {
    "scrolled": true
   },
   "outputs": [
    {
     "name": "stdout",
     "output_type": "stream",
     "text": [
      "EOQ Reports\n",
      "\n",
      "Static EOQ: 138.56 units\n",
      "\n",
      "EOQ Summary Statistics (Stochastic):\n",
      "25th percentile: 130.16 units\n",
      "50th percentile (median): 138.69 units\n",
      "75th percentile: 147.61 units\n",
      "95th percentile: 161.24 units\n",
      "99th percentile: 170.02 units\n"
     ]
    },
    {
     "data": {
      "image/png": "[encoded data removed]",
      "text/plain": [
       "<Figure size 1000x600 with 1 Axes>"
      ]
     },
     "metadata": {},
     "output_type": "display_data"
    },
    {
     "name": "stdout",
     "output_type": "stream",
     "text": [
      "\n",
      "EOQ Frequency Distribution Table:\n",
      "         EOQ Range  Frequency\n",
      " (97.379, 106.374]         24\n",
      "(106.374, 115.281]        209\n",
      "(115.281, 124.187]        978\n",
      "(124.187, 133.094]       2140\n",
      "  (133.094, 142.0]       2662\n",
      "  (142.0, 150.907]       2163\n",
      "(150.907, 159.813]       1227\n",
      " (159.813, 168.72]        470\n",
      " (168.72, 177.626]        108\n",
      "(177.626, 186.533]         19\n",
      "\n",
      "\n",
      "Outputs saved: \n",
      "\n",
      "Simulation results saved to: 0601 Simulation_report.csv\n",
      "Histogram saved to: 0601 simulation_plot.png\n"
     ]
    }
   ],
   "source": [
    "# EOQ reporta\n",
    "print(\"EOQ Reports\\n\")\n",
    "# print static EOQ\n",
    "print(f\"Static EOQ: {eoq_static:.2f} units\")\n",
    "\n",
    "# print stochastoc EOQ\n",
    "print(\"\\nEOQ Summary Statistics (Stochastic):\")\n",
    "for key, value in eoq_summary.items():\n",
    "    print(f\"{key}: {value:.2f} units\")\n",
    "\n",
    "# Histogram\n",
    "plt.figure(figsize=(10, 6))\n",
    "plt.hist(eoq_simulated, bins=30, edgecolor='black', alpha=0.7)\n",
    "plt.title(\"Histogram of Simulated EOQ Values\")\n",
    "plt.xlabel(\"EOQ\")\n",
    "plt.ylabel(\"Frequency\")\n",
    "plt.grid(True)\n",
    "plt.savefig(my_plot)\n",
    "plt.show()\n",
    "\n",
    "# Frequency distribution table\n",
    "eoq_bins = pd.cut(eoq_simulated, bins=my_bin_size)\n",
    "freq_table = pd.Series(eoq_bins).value_counts().sort_index().reset_index()\n",
    "freq_table.columns = ['EOQ Range', 'Frequency']\n",
    "\n",
    "# Display table\n",
    "print(\"\\nEOQ Frequency Distribution Table:\")\n",
    "print(freq_table.to_string(index=False))\n",
    "\n",
    "#File save status\n",
    "print(\"\\n\")\n",
    "print(\"Outputs saved: \\n\")\n",
    "print(f\"Simulation results saved to: {my_report}\")\n",
    "print(f\"Histogram saved to: {my_plot}\")"
   ]
  },
  {
   "cell_type": "raw",
   "id": "d1817e22-ff2c-490a-b099-43811e0635a6",
   "metadata": {},
   "source": []
  }
 ],
 "metadata": {
  "kernelspec": {
   "display_name": "Python 3 (ipykernel)",
   "language": "python",
   "name": "python3"
  },
  "language_info": {
   "codemirror_mode": {
    "name": "ipython",
    "version": 3
   },
   "file_extension": ".py",
   "mimetype": "text/x-python",
   "name": "python",
   "nbconvert_exporter": "python",
   "pygments_lexer": "ipython3",
   "version": "3.12.7"
  }
 },
 "nbformat": 4,
 "nbformat_minor": 5
}
