{
 "cells": [
  {
   "cell_type": "markdown",
   "id": "a0ffc026-6256-434b-881f-5ce1e0f9fa47",
   "metadata": {},
   "source": [
    "### Import libraries"
   ]
  },
  {
   "cell_type": "code",
   "execution_count": 1,
   "id": "aadb7f60-c3b4-45cc-b2f8-7baa54222dfd",
   "metadata": {},
   "outputs": [],
   "source": [
    "# Load libraries\n",
    "import pandas as pd\n",
    "import joblib"
   ]
  },
  {
   "cell_type": "markdown",
   "id": "cd02050e-ea99-45ec-8e8b-ccaafb9f48bd",
   "metadata": {},
   "source": [
    "### Customize"
   ]
  },
  {
   "cell_type": "code",
   "execution_count": 2,
   "id": "74279a00-de2b-45db-99a7-1813752655a4",
   "metadata": {},
   "outputs": [],
   "source": [
    "# Customize parameters\n",
    "my_logit=\"0901 logistic_credit_model.joblib\"\n",
    "my_scaler=\"0901 credit_scaler.joblib\"\n",
    "decision_threshold=0.5\n",
    "new_income = 50000\n",
    "new_credit_score = 620\n",
    "new_loan = 15000\n",
    "new_age = 40"
   ]
  },
  {
   "cell_type": "markdown",
   "id": "cb07e870-0058-4789-b914-f4b1ee19c71d",
   "metadata": {},
   "source": [
    "### Use model on a new credit application"
   ]
  },
  {
   "cell_type": "code",
   "execution_count": 3,
   "id": "51903f12-94d9-4a78-b58a-adb12a57441f",
   "metadata": {},
   "outputs": [],
   "source": [
    "# Use new applicant data\n",
    "new_applicant = pd.DataFrame({\n",
    "    'Income': [new_income],\n",
    "    'Credit_Score': [new_credit_score],\n",
    "    'Loan': [new_loan],\n",
    "    'Age': [new_age]\n",
    "})\n",
    "\n",
    "# Load model and scaler\n",
    "loaded_model = joblib.load(my_logit)\n",
    "loaded_scaler = joblib.load(my_scaler)\n",
    "\n",
    "# Scale input and predict probability of default\n",
    "new_applicant_scaled = loaded_scaler.transform(new_applicant)\n",
    "pd_value = loaded_model.predict_proba(new_applicant_scaled)[0][1]\n",
    "\n",
    "# Apply threshold to make decision\n",
    "threshold = decision_threshold\n",
    "decision = \"Reject\" if pd_value > threshold else \"Approve\""
   ]
  },
  {
   "cell_type": "markdown",
   "id": "b6db7cef-6009-4c28-989f-2602e28e372b",
   "metadata": {},
   "source": [
    "### Generate output"
   ]
  },
  {
   "cell_type": "code",
   "execution_count": 4,
   "id": "208dfd18-c02e-4c66-a1b1-e1f1f29e51f6",
   "metadata": {},
   "outputs": [
    {
     "name": "stdout",
     "output_type": "stream",
     "text": [
      "\n",
      "New Applicant Data: {'Income': 50000, 'Credit_Score': 620, 'Loan': 15000, 'Age': 40}\n",
      "Predicted Probability of Default (full precision): 0.01159358867214895\n",
      "Credit Decision (Threshold = 0.5): Approve\n"
     ]
    }
   ],
   "source": [
    "# Output results\n",
    "print(\"\\nNew Applicant Data:\", new_applicant.to_dict(orient='records')[0])\n",
    "print(f\"Predicted Probability of Default (full precision): {pd_value}\")\n",
    "print(f\"Credit Decision (Threshold = {threshold}): {decision}\")"
   ]
  },
  {
   "cell_type": "code",
   "execution_count": null,
   "id": "e6e6e1cd-7ad8-4242-b1a9-4a036e2242c8",
   "metadata": {},
   "outputs": [],
   "source": []
  }
 ],
 "metadata": {
  "kernelspec": {
   "display_name": "Python 3 (ipykernel)",
   "language": "python",
   "name": "python3"
  },
  "language_info": {
   "codemirror_mode": {
    "name": "ipython",
    "version": 3
   },
   "file_extension": ".py",
   "mimetype": "text/x-python",
   "name": "python",
   "nbconvert_exporter": "python",
   "pygments_lexer": "ipython3",
   "version": "3.12.7"
  }
 },
 "nbformat": 4,
 "nbformat_minor": 5
}
