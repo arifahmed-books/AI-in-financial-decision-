{
 "cells": [
  {
   "cell_type": "markdown",
   "id": "a83655e5-f435-49f0-b2a9-378517ca9c28",
   "metadata": {},
   "source": [
    "# Part A: PD Computation"
   ]
  },
  {
   "cell_type": "markdown",
   "id": "f66bbd7d-0508-4332-ad79-65a9d345a736",
   "metadata": {},
   "source": [
    "### Import libraries"
   ]
  },
  {
   "cell_type": "code",
   "execution_count": null,
   "id": "ca1911a5-4fef-40db-a7c7-323fa06362c5",
   "metadata": {},
   "outputs": [],
   "source": [
    "# Load libraries\n",
    "import pandas as pd\n",
    "import numpy as np\n",
    "from sklearn.model_selection import train_test_split\n",
    "from sklearn.linear_model import LogisticRegression\n",
    "from sklearn.preprocessing import StandardScaler\n",
    "import joblib"
   ]
  },
  {
   "cell_type": "markdown",
   "id": "e0ab7405-7b80-4040-bdb4-6e3979593f6f",
   "metadata": {},
   "source": [
    "### Customize"
   ]
  },
  {
   "cell_type": "code",
   "execution_count": null,
   "id": "e1283604-56fb-45d3-ad08-71c35f598a88",
   "metadata": {},
   "outputs": [],
   "source": [
    "# Customize parameters\n",
    "my_credit_data = \"0901 Credit_data.csv\"\n",
    "my_features = ['Income', 'Credit_Score', 'Loan', 'Age']\n",
    "# part of the data to be used for testing\n",
    "my_test_size=0.3  \n",
    "# names of the output models\n",
    "my_logit=\"0901 logistic_credit_model.joblib\"\n",
    "my_scaler=\"0901 credit_scaler.joblib\"\n"
   ]
  },
  {
   "cell_type": "markdown",
   "id": "1020676f-6b8e-41ce-9256-a591c14d8cea",
   "metadata": {},
   "source": [
    "###  Load and prepare the dataset"
   ]
  },
  {
   "cell_type": "code",
   "execution_count": null,
   "id": "50bc25f2-5c66-4467-ad0d-4ec7f4201868",
   "metadata": {},
   "outputs": [],
   "source": [
    "# Load historical credit data for training\n",
    "df = pd.read_csv(my_credit_data)\n",
    "\n",
    "# Prepare features and target\n",
    "features = my_features\n",
    "X = df[features]\n",
    "y = df['Default']  # 0 = repaid, 1 = defaulted\n",
    "\n",
    "# Standardize features to improve model performance\n",
    "scaler = StandardScaler()\n",
    "X_scaled = scaler.fit_transform(X)"
   ]
  },
  {
   "cell_type": "markdown",
   "id": "f76a7dc9-2e7c-4654-ae7d-98a4d5b6b1b6",
   "metadata": {},
   "source": [
    "### Train and save model"
   ]
  },
  {
   "cell_type": "code",
   "execution_count": null,
   "id": "5daf66a1-1636-4d6e-a233-2f06b882a6f3",
   "metadata": {},
   "outputs": [],
   "source": [
    "# Train logistic regression model\n",
    "X_train, X_test, y_train, y_test = train_test_split(X_scaled, y, test_size=my_test_size, random_state=42)\n",
    "\n",
    "model = LogisticRegression()\n",
    "model.fit(X_train, y_train)\n",
    "\n",
    "# Logistic Regression Equation\n",
    "coefficients = model.coef_[0]\n",
    "intercept = model.intercept_[0]\n",
    "equation_terms = [f\"{coef:.4f}*{feature}\" for coef, feature in zip(coefficients, features)]\n",
    "logistic_equation = f\"P(Default) = 1 / (1 + exp(-({intercept:.4f} + \" + \" + \".join(equation_terms) + \")) )\"\n",
    "\n",
    "print(\"\\nLogistic Regression Equation:\")\n",
    "print(logistic_equation)\n",
    "\n",
    "# Save model and scaler for reuse\n",
    "joblib.dump(model, my_logit)\n",
    "joblib.dump(scaler, my_scaler)"
   ]
  },
  {
   "cell_type": "markdown",
   "id": "4b23ef1f-11b5-4495-a181-d26017cd6cc2",
   "metadata": {},
   "source": [
    "# Part B: Model Validation "
   ]
  },
  {
   "cell_type": "markdown",
   "id": "4c191bd1-599a-4579-b64b-f2a22d797000",
   "metadata": {},
   "source": [
    "### Import libraries"
   ]
  },
  {
   "cell_type": "code",
   "execution_count": null,
   "id": "27bb43dd-f485-4510-a6fa-0fb998f65b1f",
   "metadata": {},
   "outputs": [],
   "source": [
    "# Import libraries\n",
    "import matplotlib.pyplot as plt\n",
    "import seaborn as sns\n",
    "from sklearn.metrics import roc_auc_score, roc_curve, classification_report, confusion_matrix\n",
    "from matplotlib.backends.backend_pdf import PdfPages"
   ]
  },
  {
   "cell_type": "markdown",
   "id": "4754c049-1737-40f4-8ba3-5c715a68c6ff",
   "metadata": {},
   "source": [
    "### Customize"
   ]
  },
  {
   "cell_type": "code",
   "execution_count": null,
   "id": "44418495-b411-4bac-a7f0-d03f3ace3e66",
   "metadata": {},
   "outputs": [],
   "source": [
    "#Customize parameters\n",
    "my_pdf=\"0901 Model_Validation.pdf\"\n",
    "my_roc=\"0901 ROC_Curve.png\"\n",
    "my_matrix=\"0901 Confusion_Matrix.png\""
   ]
  },
  {
   "cell_type": "markdown",
   "id": "6e2d9fec-2dc7-4f56-bbac-03c975bcc98f",
   "metadata": {},
   "source": [
    "### Predict probabilities and compute validation metrics"
   ]
  },
  {
   "cell_type": "code",
   "execution_count": null,
   "id": "20691e36-b1c5-47ef-b957-a623b9396a94",
   "metadata": {},
   "outputs": [],
   "source": [
    "# Predict probabilities and binary classes\n",
    "y_proba_test = model.predict_proba(X_test)[:, 1]\n",
    "y_pred = (y_proba_test >= 0.5).astype(int)\n",
    "\n",
    "# Compute confusion matrix\n",
    "conf_matrix = confusion_matrix(y_test, y_pred)\n",
    "\n",
    "# Classification report\n",
    "report = classification_report(y_test, y_pred, digits=6)\n",
    "\n",
    "# AUC and Gini\n",
    "auc = roc_auc_score(y_test, y_proba_test)\n",
    "gini = 2 * auc - 1\n",
    "\n",
    "# ROC Curve\n",
    "fpr, tpr, thresholds = roc_curve(y_test, y_proba_test)\n",
    "\n",
    "# KS Statistic (no chart)\n",
    "df_ks = pd.DataFrame({'y_true': y_test, 'y_proba': y_proba_test})\n",
    "df_ks.sort_values('y_proba', ascending=False, inplace=True)\n",
    "df_ks['event'] = df_ks['y_true']\n",
    "df_ks['non_event'] = 1 - df_ks['y_true']\n",
    "df_ks['cum_event_rate'] = df_ks['event'].cumsum() / df_ks['event'].sum()\n",
    "df_ks['cum_non_event_rate'] = df_ks['non_event'].cumsum() / df_ks['non_event'].sum()\n",
    "df_ks['ks'] = np.abs(df_ks['cum_event_rate'] - df_ks['cum_non_event_rate'])\n",
    "ks_stat = df_ks['ks'].max()\n",
    "ks_idx = df_ks['ks'].idxmax()\n",
    "ks_threshold = df_ks.loc[ks_idx, 'y_proba']"
   ]
  },
  {
   "cell_type": "markdown",
   "id": "20afcd47-dfac-4e1c-8adb-8e2bad9c4734",
   "metadata": {},
   "source": [
    "### Display results on screen and save files "
   ]
  },
  {
   "cell_type": "code",
   "execution_count": null,
   "id": "24d584d8-5cfc-40cc-803e-32cd6cd1fbb1",
   "metadata": {
    "scrolled": true
   },
   "outputs": [],
   "source": [
    "# --- Display on Screen ---\n",
    "print(\"\\nClassification Report:\\n\", report)\n",
    "print(f\"AUC: {auc:.6f}\")\n",
    "print(f\"Gini Coefficient: {gini:.6f}\")\n",
    "print(f\"KS Statistic: {ks_stat:.6f} at Threshold = {ks_threshold:.4f}\")\n",
    "print(\"\\nConfusion Matrix:\\n\", conf_matrix)\n",
    "\n",
    "\n",
    "   "
   ]
  },
  {
   "cell_type": "code",
   "execution_count": null,
   "id": "d3fa7960-2d8d-45da-8dd0-a60ac9746a26",
   "metadata": {},
   "outputs": [],
   "source": [
    " # Save Outputs to PDF and PNGs\n",
    "with PdfPages(my_pdf) as pdf:\n",
    "\n",
    "    # ROC Curve\n",
    "    plt.figure(figsize=(8, 6))\n",
    "    plt.plot(fpr, tpr, label=f\"ROC Curve (AUC = {auc:.6f})\")\n",
    "    plt.plot([0, 1], [0, 1], linestyle='--', color='gray')\n",
    "    plt.xlabel(\"False Positive Rate\")\n",
    "    plt.ylabel(\"True Positive Rate\")\n",
    "    plt.title(\"Receiver Operating Characteristic (ROC) Curve\")\n",
    "    plt.legend(loc=\"lower right\")\n",
    "    plt.grid(True)\n",
    "    plt.tight_layout()\n",
    "    plt.savefig(my_roc)\n",
    "    pdf.savefig()\n",
    "    plt.show()\n",
    "    plt.close()\n",
    "# Confusion Matrix\n",
    "    plt.figure(figsize=(6, 5))\n",
    "    sns.heatmap(conf_matrix, annot=True, fmt='d', cmap='Blues',\n",
    "                xticklabels=[\"Repaid\", \"Defaulted\"], \n",
    "                yticklabels=[\"Repaid\", \"Defaulted\"])\n",
    "    plt.xlabel(\"Predicted\")\n",
    "    plt.ylabel(\"Actual\")\n",
    "    plt.title(\"Confusion Matrix\")\n",
    "    plt.tight_layout()\n",
    "    plt.savefig(my_matrix)\n",
    "    pdf.savefig()\n",
    "    plt.show()\n",
    "    plt.close()\n",
    "\n",
    "    # Text Summary Page\n",
    "    fig, ax = plt.subplots(figsize=(8.5, 11))\n",
    "    ax.axis(\"off\")\n",
    "    text = f\"\"\"\n",
    "    Model Validation Report\n",
    "\n",
    "    AUC Score: {auc:.6f}\n",
    "    Gini Coefficient: {gini:.6f}\n",
    "    KS Statistic: {ks_stat:.6f} at Threshold = {ks_threshold:.4f}\n",
    "\n",
    "    Classification Report:\n",
    "    {report}\n",
    "    \"\"\"\n",
    "    ax.text(0, 1, text, ha=\"left\", va=\"top\", fontsize=12, family=\"monospace\")\n",
    "    pdf.savefig()\n",
    "    plt.close()\n",
    "\n",
    "print(\"\\nROC, Confusion Matrix displayed and saved as PNGs.\")\n",
    "print(\"Model validation PDF saved as 'Model_Validation.pdf'\")\n"
   ]
  }
 ],
 "metadata": {
  "kernelspec": {
   "display_name": "Python 3 (ipykernel)",
   "language": "python",
   "name": "python3"
  },
  "language_info": {
   "codemirror_mode": {
    "name": "ipython",
    "version": 3
   },
   "file_extension": ".py",
   "mimetype": "text/x-python",
   "name": "python",
   "nbconvert_exporter": "python",
   "pygments_lexer": "ipython3",
   "version": "3.12.7"
  }
 },
 "nbformat": 4,
 "nbformat_minor": 5
}
