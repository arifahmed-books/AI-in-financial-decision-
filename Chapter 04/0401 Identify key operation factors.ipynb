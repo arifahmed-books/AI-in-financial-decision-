{
 "cells": [
  {
   "cell_type": "markdown",
   "id": "2395693b-824a-45b3-9fb7-e2702e4da6d7",
   "metadata": {},
   "source": [
    "### Import libraries"
   ]
  },
  {
   "cell_type": "code",
   "execution_count": null,
   "id": "400aef76-35cd-4966-ad8b-2a4e3f4a0582",
   "metadata": {},
   "outputs": [],
   "source": [
    "# Load Libraries\n",
    "import pandas as pd\n",
    "import statsmodels.api as sm\n",
    "import matplotlib.pyplot as plt\n",
    "import os"
   ]
  },
  {
   "cell_type": "markdown",
   "id": "d961ab2b-a2b9-4bc1-9c14-91d110c53cac",
   "metadata": {},
   "source": [
    "### Customize"
   ]
  },
  {
   "cell_type": "code",
   "execution_count": null,
   "id": "96dcd7d2-a267-4e73-b87e-7035a9189118",
   "metadata": {},
   "outputs": [],
   "source": [
    "# Customize paramaters\n",
    "my_input_file = '0401 my_input.csv'\n",
    "my_plot_prefix = \"0401 my_plot_file\"\n",
    "my_x_columns=['Machine_Downtime', 'Supply_Delays', 'Raw_Material_Cost_Index', 'Labor_Efficiency']\n",
    "my_y_column=['Profit_Margin']"
   ]
  },
  {
   "cell_type": "markdown",
   "id": "b0528c9a-39a5-4295-bed3-b0b6db79f635",
   "metadata": {},
   "source": [
    "### Load data, prepare and run regression  "
   ]
  },
  {
   "cell_type": "code",
   "execution_count": null,
   "id": "aff82720-a1e5-471d-9bfd-e2590947105c",
   "metadata": {},
   "outputs": [],
   "source": [
    "# Load Data \n",
    "df = pd.read_csv(my_input_file)\n",
    "\n",
    "# Prepare X and y\n",
    "X = df[my_x_columns]\n",
    "y = df[my_y_column]\n",
    "\n",
    "# Add constant for intercept\n",
    "X = sm.add_constant(X)\n",
    "\n",
    "# Fit Regression Model ===\n",
    "model = sm.OLS(y, X).fit()"
   ]
  },
  {
   "cell_type": "markdown",
   "id": "2408e884-f479-44b3-a89f-a5ad79554510",
   "metadata": {},
   "source": [
    "### Generate regression output, display, and save plot"
   ]
  },
  {
   "cell_type": "code",
   "execution_count": null,
   "id": "d310ca52-8b5a-487a-98b4-59ea0320b3ab",
   "metadata": {},
   "outputs": [],
   "source": [
    "# Summary Output\n",
    "print(model.summary())\n",
    "\n",
    "# Display Regression Equation\n",
    "coefficients = model.params\n",
    "equation = f\"Profit_Margin = {coefficients['const']:.3f}\"\n",
    "for var in X.columns[1:]:  # skip 'const'\n",
    "    sign = '+' if coefficients[var] >= 0 else '-'\n",
    "    equation += f\" {sign} {abs(coefficients[var]):.3f}*{var}\"\n",
    "print(\"\\n Regression Equation:\")\n",
    "print(equation)\n",
    "\n",
    "# Visualize & Save Scatter Plots \n",
    "output_folder = os.path.dirname(my_input_file)\n",
    "\n",
    "for col in X.columns[1:]:  # skip 'const'\n",
    "    plt.figure()\n",
    "    plt.scatter(df[col], y)\n",
    "    plt.xlabel(col)\n",
    "    plt.ylabel('Profit_Margin')\n",
    "    plt.title(f'Profit Margin vs {col}')\n",
    "    plt.grid(True)\n",
    "    my_plot_file = os.path.join(output_folder, f\"{my_plot_prefix}_{col}.png\")\n",
    "    plt.savefig(my_plot_file)\n",
    "    plt.show()\n",
    "    plt.close()\n",
    "    print(f\"Plot saved: {my_plot_file}\")\n"
   ]
  },
  {
   "cell_type": "code",
   "execution_count": null,
   "id": "b13a0504-e610-4a4b-bfa6-5856f6848faf",
   "metadata": {},
   "outputs": [],
   "source": []
  }
 ],
 "metadata": {
  "kernelspec": {
   "display_name": "Python 3 (ipykernel)",
   "language": "python",
   "name": "python3"
  },
  "language_info": {
   "codemirror_mode": {
    "name": "ipython",
    "version": 3
   },
   "file_extension": ".py",
   "mimetype": "text/x-python",
   "name": "python",
   "nbconvert_exporter": "python",
   "pygments_lexer": "ipython3",
   "version": "3.12.7"
  }
 },
 "nbformat": 4,
 "nbformat_minor": 5
}
