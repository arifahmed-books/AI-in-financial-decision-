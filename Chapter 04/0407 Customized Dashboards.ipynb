{
 "cells": [
  {
   "cell_type": "markdown",
   "id": "0f616bc8-83db-441a-9eb2-422586d5069a",
   "metadata": {},
   "source": [
    "### Import libraries"
   ]
  },
  {
   "cell_type": "code",
   "execution_count": 54,
   "id": "5b503bae-c8d7-4049-88c2-be433c68b985",
   "metadata": {},
   "outputs": [],
   "source": [
    "# === Step 1: Import Libraries ===\n",
    "import pandas as pd\n",
    "import numpy as np\n",
    "from dash import Dash, dcc, html, Input, Output\n",
    "import plotly.express as px\n",
    "from sklearn.linear_model import LinearRegression\n",
    "import socket"
   ]
  },
  {
   "cell_type": "markdown",
   "id": "b5f02b7e-ad6b-4b4d-8852-2c0008e8955b",
   "metadata": {},
   "source": [
    "### Customize"
   ]
  },
  {
   "cell_type": "code",
   "execution_count": 55,
   "id": "7e653a47-ed2d-4dd6-8ff1-829ee7bb7c57",
   "metadata": {},
   "outputs": [],
   "source": [
    "# Customize parameters\n",
    "my_input_file='0407 my_input.csv'\n",
    "my_host='127.0.0.8'\n",
    "\n",
    "# define regression paraneters \n",
    "my_x_values = ['Utilization', 'Downtime', 'Energy_Consumption', 'Defect_Rate']\n",
    "my_y_value = 'Failure_Risk'\n",
    "\n",
    "# Seconds to refresh dashboard\n",
    "my_refresh=10"
   ]
  },
  {
   "cell_type": "markdown",
   "id": "79e541b9-1323-4b07-8c87-a4224948bf69",
   "metadata": {},
   "source": [
    "### Load and train model on initial data"
   ]
  },
  {
   "cell_type": "code",
   "execution_count": 56,
   "id": "e4dffe9c-462f-4f78-8316-d1a6d9a5b81b",
   "metadata": {},
   "outputs": [],
   "source": [
    "# Train ML model once\n",
    "training_data = pd.read_csv(my_input_file)\n",
    "X_train = training_data[['Utilization', 'Downtime', 'Energy_Consumption', 'Defect_Rate']]\n",
    "y_train = training_data['Failure_Risk']\n",
    "model = LinearRegression().fit(X_train, y_train)"
   ]
  },
  {
   "cell_type": "markdown",
   "id": "6d2785a1-539b-47df-9325-2596d79c639a",
   "metadata": {},
   "source": [
    "### Function to create dummy data"
   ]
  },
  {
   "cell_type": "code",
   "execution_count": 57,
   "id": "ff8b3463-3326-4ec5-88c1-34453453e9eb",
   "metadata": {},
   "outputs": [],
   "source": [
    "# Counting the number of machines to generate future data\n",
    "n = training_data['Machine_ID'].nunique() \n",
    "\n",
    "# === Step 2: Simulate Base Data + Train ML Model ===\n",
    "machine_ids = [f'M{i+1}' for i in range(n)]\n",
    "\n",
    "def generate_data():\n",
    "    return pd.DataFrame({\n",
    "        'Machine_ID': machine_ids,\n",
    "        'Utilization': np.random.randint(60, 100, size=n),\n",
    "        'Downtime': np.random.randint(1, 12, size=n),\n",
    "        'Energy_Consumption': np.random.randint(100, 170, size=n),\n",
    "        'Defect_Rate': np.round(np.random.uniform(1.0, 5.0, size=n), 2),\n",
    "        'Failure_Risk': np.round(np.random.uniform(0.05, 0.6, size=n), 2)\n",
    "    })\n",
    "\n"
   ]
  },
  {
   "cell_type": "markdown",
   "id": "2cb070bc-463c-464b-88d9-e4233db51328",
   "metadata": {},
   "source": [
    "### Setup dashboard app"
   ]
  },
  {
   "cell_type": "code",
   "execution_count": 58,
   "id": "84f58e76-a950-470a-88b8-613ee16bae35",
   "metadata": {},
   "outputs": [],
   "source": [
    "# Build Dash App\n",
    "app = Dash(__name__)\n",
    "\n",
    "app.layout = html.Div([\n",
    "    html.H2(\"Role-Based KPI Dashboard\"),\n",
    "\n",
    "    html.Label(\"Select Stakeholder Role:\"),\n",
    "    dcc.Dropdown(\n",
    "        id='role_selector',\n",
    "        options=[\n",
    "            {'label': 'Executive', 'value': 'executive'},\n",
    "            {'label': 'Operations Manager', 'value': 'operations'},\n",
    "            {'label': 'Maintenance Head', 'value': 'maintenance'}\n",
    "        ],\n",
    "        value='executive',\n",
    "        clearable=False\n",
    "    ),\n",
    "\n",
    "    dcc.Interval(id='update_interval', interval=my_refresh*1000, n_intervals=0),\n",
    "    html.Div(id='role_specific_output')\n",
    "])\n"
   ]
  },
  {
   "cell_type": "markdown",
   "id": "941ed015-2388-46f5-ae81-34b5bda9fb57",
   "metadata": {},
   "source": [
    "### Callback with live data"
   ]
  },
  {
   "cell_type": "code",
   "execution_count": 59,
   "id": "854ee147-5a21-46d8-a156-9b169502f5c5",
   "metadata": {},
   "outputs": [
    {
     "name": "stdout",
     "output_type": "stream",
     "text": [
      "Dash app running at http://192.168.1.73:8050\n"
     ]
    },
    {
     "data": {
      "text/html": [
       "\n",
       "        <iframe\n",
       "            width=\"100%\"\n",
       "            height=\"650\"\n",
       "            src=\"http://127.0.0.8:8050/\"\n",
       "            frameborder=\"0\"\n",
       "            allowfullscreen\n",
       "            \n",
       "        ></iframe>\n",
       "        "
      ],
      "text/plain": [
       "<IPython.lib.display.IFrame at 0x20e755389e0>"
      ]
     },
     "metadata": {},
     "output_type": "display_data"
    }
   ],
   "source": [
    "\n",
    "# Callback Based on Role and Interval Updates \n",
    "@app.callback(\n",
    "    Output('role_specific_output', 'children'),\n",
    "    Input('role_selector', 'value'),\n",
    "    Input('update_interval', 'n_intervals')\n",
    ")\n",
    "def update_dashboard(role, n):\n",
    "    df = generate_data()\n",
    "    X_live = df[['Utilization', 'Downtime', 'Energy_Consumption', 'Defect_Rate']]\n",
    "    df['Predicted_Risk'] = model.predict(X_live)\n",
    "\n",
    "    if role == 'executive':\n",
    "        # Executive: Summary KPIs and trends\n",
    "        avg_risk = round(df['Predicted_Risk'].mean(), 3)\n",
    "        avg_util = round(df['Utilization'].mean(), 2)\n",
    "\n",
    "        fig = px.bar(df, x='Machine_ID', y='Predicted_Risk', title='Avg Failure Risk by Machine', color='Predicted_Risk')\n",
    "        return html.Div([\n",
    "            html.H4(f\"Executive Summary\"),\n",
    "            html.P(f\"Average Utilization: {avg_util}%\"),\n",
    "            html.P(f\"Average Predicted Failure Risk: {avg_risk}\"),\n",
    "            dcc.Graph(figure=fig)\n",
    "        ])\n",
    "\n",
    "    elif role == 'operations':\n",
    "        # Operations: Live Utilization, Downtime, Defect\n",
    "        fig1 = px.bar(df, x='Machine_ID', y='Utilization', title='Real-Time Machine Utilization', color='Predicted_Risk')\n",
    "        fig2 = px.bar(df, x='Machine_ID', y='Defect_Rate', title='Defect Rate by Machine', color='Predicted_Risk')\n",
    "        return html.Div([\n",
    "            html.H4(\"🔧 Operational View\"),\n",
    "            dcc.Graph(figure=fig1),\n",
    "            dcc.Graph(figure=fig2)\n",
    "        ])\n",
    "\n",
    "    elif role == 'maintenance':\n",
    "        # Maintenance: Risk-Ranked Machine Table\n",
    "        df_sorted = df.sort_values(by='Predicted_Risk', ascending=False).reset_index(drop=True)\n",
    "        table_html = html.Table([\n",
    "            html.Tr([html.Th(col) for col in df_sorted.columns])\n",
    "        ] + [\n",
    "            html.Tr([html.Td(df_sorted.iloc[i][col]) for col in df_sorted.columns])\n",
    "            for i in range(len(df_sorted))\n",
    "        ])\n",
    "        return html.Div([\n",
    "            html.H4(\"Maintenance Priority List (Sorted by Risk)\"),\n",
    "            table_html\n",
    "        ])\n",
    "\n",
    "\n",
    "# Display Dash server address\n",
    "ip_address = socket.gethostbyname(socket.gethostname())\n",
    "print(f\"Dash app running at http://{ip_address}:8050\")\n",
    "\n",
    "if __name__ == '__main__':\n",
    "\n",
    "    # For external access prefix the first option  with # and remove the # from the second option\n",
    "    app.run(my_host, port=8050, debug=True)\n",
    "    #app.run(host='0.0.0.0', port=8050, debug=True))"
   ]
  },
  {
   "cell_type": "code",
   "execution_count": null,
   "id": "b53aa0ad-2a39-4852-ba97-321450052807",
   "metadata": {},
   "outputs": [],
   "source": []
  }
 ],
 "metadata": {
  "kernelspec": {
   "display_name": "Python 3 (ipykernel)",
   "language": "python",
   "name": "python3"
  },
  "language_info": {
   "codemirror_mode": {
    "name": "ipython",
    "version": 3
   },
   "file_extension": ".py",
   "mimetype": "text/x-python",
   "name": "python",
   "nbconvert_exporter": "python",
   "pygments_lexer": "ipython3",
   "version": "3.12.7"
  }
 },
 "nbformat": 4,
 "nbformat_minor": 5
}
