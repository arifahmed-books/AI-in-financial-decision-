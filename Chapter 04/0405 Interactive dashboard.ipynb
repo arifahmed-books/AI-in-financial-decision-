{
 "cells": [
  {
   "cell_type": "markdown",
   "id": "80abc934-2eba-4e3f-831f-905dcdd3b0c1",
   "metadata": {},
   "source": [
    "### Import libraries"
   ]
  },
  {
   "cell_type": "code",
   "execution_count": 5,
   "id": "db29f58d-fd96-4931-87bb-12e2c6873c03",
   "metadata": {},
   "outputs": [],
   "source": [
    "# Load Libraries \n",
    "import pandas as pd\n",
    "from dash import Dash, html, dcc, Input, Output\n",
    "import plotly.express as px\n",
    "from sklearn.linear_model import LinearRegression\n",
    "from sklearn.model_selection import train_test_split\n",
    "import socket"
   ]
  },
  {
   "cell_type": "markdown",
   "id": "f41e7c44-d940-40e9-a7a4-499b17f9c2d8",
   "metadata": {},
   "source": [
    "### Customize"
   ]
  },
  {
   "cell_type": "code",
   "execution_count": 6,
   "id": "b11d94e4-003d-4acd-8602-d6bfed1b20e8",
   "metadata": {},
   "outputs": [],
   "source": [
    "my_input_file='0405 my_input.csv'\n",
    "my_features = ['Utilization', 'Downtime', 'Energy_Consumption', 'Defect_Rate']\n",
    "my_target='Failure_Risk'\n",
    "my_host='127.0.0.7'"
   ]
  },
  {
   "cell_type": "markdown",
   "id": "a7f6f1cc-c9d1-4abc-858f-48e107d3ac3b",
   "metadata": {},
   "source": [
    "### Read data and run regression"
   ]
  },
  {
   "cell_type": "code",
   "execution_count": 7,
   "id": "a6d650a4-ff47-4080-b766-e88c0e9ff9c6",
   "metadata": {},
   "outputs": [],
   "source": [
    "# Read data\n",
    "data = pd.read_csv(my_input_file)\n",
    "\n",
    "# Train Regression Model for Failure Risk Prediction \n",
    "X = data[my_features]\n",
    "y = data[my_target]\n",
    "\n",
    "model = LinearRegression()\n",
    "model.fit(X, y)\n",
    "\n",
    "data['Predicted_Risk'] = model.predict(X)"
   ]
  },
  {
   "cell_type": "markdown",
   "id": "ad5e1ee5-ce87-4157-a0c6-121e24f783cf",
   "metadata": {},
   "source": [
    "### Build dashboard "
   ]
  },
  {
   "cell_type": "code",
   "execution_count": 8,
   "id": "62aaa8a7-85d6-4184-ac7d-5c75778eb50f",
   "metadata": {},
   "outputs": [
    {
     "name": "stdout",
     "output_type": "stream",
     "text": [
      "Dash app running at http://192.168.1.73:8050\n"
     ]
    },
    {
     "data": {
      "text/html": [
       "\n",
       "        <iframe\n",
       "            width=\"100%\"\n",
       "            height=\"650\"\n",
       "            src=\"http://127.0.0.7:8050/\"\n",
       "            frameborder=\"0\"\n",
       "            allowfullscreen\n",
       "            \n",
       "        ></iframe>\n",
       "        "
      ],
      "text/plain": [
       "<IPython.lib.display.IFrame at 0x1399f711cd0>"
      ]
     },
     "metadata": {},
     "output_type": "display_data"
    }
   ],
   "source": [
    "#Display Dash server address\n",
    "ip_address = socket.gethostbyname(socket.gethostname())\n",
    "print(f\"Dash app running at http://{ip_address}:8050\")\n",
    "\n",
    "#  Build Interactive Dashboard with Dash \n",
    "app = Dash(__name__)\n",
    "\n",
    "app.layout = html.Div([\n",
    "    html.H2(\"Manufacturing Dashboard with ML Predictions\"),\n",
    "    \n",
    "    dcc.Dropdown(\n",
    "        id='kpi_dropdown',\n",
    "        options=[{'label': col, 'value': col} for col in my_features],\n",
    "        value='Utilization',\n",
    "        clearable=False\n",
    "    ),\n",
    "\n",
    "    dcc.Graph(id='kpi_graph'),\n",
    "\n",
    "    html.Br(),\n",
    "    html.H3(\"Predicted Equipment Failure Risk (Regression)\"),\n",
    "    dcc.Graph(\n",
    "        figure=px.bar(\n",
    "            data,\n",
    "            x='Machine_ID',\n",
    "            y='Predicted_Risk',\n",
    "            color='Predicted_Risk',\n",
    "            color_continuous_scale='Reds',\n",
    "            title=\"ML-Predicted Failure Risk by Machine\"\n",
    "        )\n",
    "    )\n",
    "])\n",
    "\n",
    "@app.callback(\n",
    "    Output('kpi_graph', 'figure'),\n",
    "    Input('kpi_dropdown', 'value')\n",
    ")\n",
    "def update_kpi_chart(kpi_selected):\n",
    "    fig = px.bar(data, x='Machine_ID', y=kpi_selected, color='Predicted_Risk',\n",
    "                 color_continuous_scale='Viridis',\n",
    "                 title=f'{kpi_selected} by Machine (ML Risk Overlay)')\n",
    "    return fig\n",
    "\n",
    "if __name__ == '__main__':\n",
    "\n",
    "    # For external access prefix the first option  with # and remove the # from the second option\n",
    "    app.run(my_host, port=8050, debug=True)\n",
    "    #app.run(host='0.0.0.0', port=8050, mode='external', debug=True)\n",
    "    "
   ]
  }
 ],
 "metadata": {
  "kernelspec": {
   "display_name": "Python 3 (ipykernel)",
   "language": "python",
   "name": "python3"
  },
  "language_info": {
   "codemirror_mode": {
    "name": "ipython",
    "version": 3
   },
   "file_extension": ".py",
   "mimetype": "text/x-python",
   "name": "python",
   "nbconvert_exporter": "python",
   "pygments_lexer": "ipython3",
   "version": "3.12.7"
  }
 },
 "nbformat": 4,
 "nbformat_minor": 5
}
