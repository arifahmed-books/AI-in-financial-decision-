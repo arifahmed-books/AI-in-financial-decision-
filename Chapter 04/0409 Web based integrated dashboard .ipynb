{
 "cells": [
  {
   "cell_type": "markdown",
   "id": "f1f333ef-76f2-400f-ae09-ec26bac05df1",
   "metadata": {},
   "source": [
    "### Import libraries"
   ]
  },
  {
   "cell_type": "code",
   "execution_count": 1,
   "id": "aebb815a-270c-487c-acb1-62775746b6a1",
   "metadata": {},
   "outputs": [],
   "source": [
    "# Import Libraries\n",
    "import pandas as pd\n",
    "import numpy as np\n",
    "from dash import Dash, dcc, html, Input, Output\n",
    "import plotly.express as px\n",
    "from sklearn.linear_model import LinearRegression\n",
    "import socket"
   ]
  },
  {
   "cell_type": "markdown",
   "id": "fbdb7a45-86af-4589-bc9f-7a7c3ab3f42d",
   "metadata": {},
   "source": [
    "### Customize"
   ]
  },
  {
   "cell_type": "code",
   "execution_count": 2,
   "id": "605c9716-0e02-4309-a1e6-7d087f38ab4c",
   "metadata": {},
   "outputs": [],
   "source": [
    "# Customize paramaters\n",
    "my_input_file='0409 my_input.csv'\n",
    "my_host = '127.0.0.4'\n",
    "my_features = ['Customer_Satisfaction', 'Service_Efficiency', 'Employee_Training_Hours', 'Innovation_Score']\n",
    "my_target = 'Net_Profit_Margin'"
   ]
  },
  {
   "cell_type": "markdown",
   "id": "1ff284e7-812b-4978-a52d-a5db10044c5e",
   "metadata": {},
   "source": [
    "### Load data and train model"
   ]
  },
  {
   "cell_type": "code",
   "execution_count": 3,
   "id": "1e204405-87ec-41c8-aba2-f091c6155ffc",
   "metadata": {},
   "outputs": [],
   "source": [
    "# Read data\n",
    "data = pd.read_csv(my_input_file)\n",
    "\n",
    "# ML Model to Predict Financial Outcome\n",
    "\n",
    "X = data[my_features]\n",
    "y = data[my_target]\n",
    "model = LinearRegression().fit(X, y)\n",
    "data['Predicted_Profit_Margin'] = model.predict(X)"
   ]
  },
  {
   "cell_type": "markdown",
   "id": "816b0287-a569-4283-85e0-4421957daf49",
   "metadata": {},
   "source": [
    "### Setup dashboard app"
   ]
  },
  {
   "cell_type": "code",
   "execution_count": 4,
   "id": "7d7f5ca3-e058-4889-a853-bd323981eb40",
   "metadata": {},
   "outputs": [],
   "source": [
    "# Dash App Setup\n",
    "\n",
    "app = Dash(__name__)\n",
    "\n",
    "perspective_map = {\n",
    "    'Financial': ['Revenue_Growth', 'Net_Profit_Margin', 'Predicted_Profit_Margin'],\n",
    "    'Customer': ['Customer_Satisfaction'],\n",
    "    'Internal Process': ['Service_Efficiency'],\n",
    "    'Learning & Growth': ['Employee_Training_Hours', 'Innovation_Score']\n",
    "}\n",
    "\n",
    "app.layout = html.Div([\n",
    "    html.H2(\"Balanced Scorecard Dashboard (Financial & Non-Financial KPIs)\"),\n",
    "\n",
    "    html.Label(\"Select BSC Perspective:\"),\n",
    "    dcc.Dropdown(\n",
    "        id='perspective_selector',\n",
    "        options=[{'label': k, 'value': k} for k in perspective_map],\n",
    "        value='Financial',\n",
    "        clearable=False\n",
    "    ),\n",
    "\n",
    "    dcc.Graph(id='bsc_kpi_graph')\n",
    "])\n"
   ]
  },
  {
   "cell_type": "markdown",
   "id": "199d6c1c-7252-49bd-b28e-caf464cba9e8",
   "metadata": {},
   "source": [
    "### Display perspectives"
   ]
  },
  {
   "cell_type": "code",
   "execution_count": 5,
   "id": "8e5680c8-1522-4904-8eca-ebd81274f3f8",
   "metadata": {},
   "outputs": [
    {
     "name": "stdout",
     "output_type": "stream",
     "text": [
      "Dash app running at http://192.168.1.73:8050\n"
     ]
    },
    {
     "data": {
      "text/html": [
       "\n",
       "        <iframe\n",
       "            width=\"100%\"\n",
       "            height=\"650\"\n",
       "            src=\"http://127.0.0.4:8050/\"\n",
       "            frameborder=\"0\"\n",
       "            allowfullscreen\n",
       "            \n",
       "        ></iframe>\n",
       "        "
      ],
      "text/plain": [
       "<IPython.lib.display.IFrame at 0x206e1523980>"
      ]
     },
     "metadata": {},
     "output_type": "display_data"
    }
   ],
   "source": [
    "\n",
    "# Callback to Display Selected Perspective \n",
    "@app.callback(\n",
    "    Output('bsc_kpi_graph', 'figure'),\n",
    "    Input('perspective_selector', 'value')\n",
    ")\n",
    "def update_chart(perspective):\n",
    "    selected_kpis = perspective_map[perspective]\n",
    "    df_melt = data[['Branch'] + selected_kpis].melt(id_vars='Branch', var_name='KPI', value_name='Value')\n",
    "\n",
    "    fig = px.bar(df_melt, x='Branch', y='Value', color='KPI',\n",
    "                 barmode='group', title=f'{perspective} Perspective KPIs')\n",
    "    fig.update_layout(xaxis_tickangle=-45)\n",
    "    return fig\n",
    "\n",
    "# Display Dash server address\n",
    "ip_address = socket.gethostbyname(socket.gethostname())\n",
    "print(f\"Dash app running at http://{ip_address}:8050\")\n",
    "\n",
    "# Run the App\n",
    "if __name__ == '__main__':\n",
    "\n",
    "    # For external access prefix the first option  with # and remove the # from the second option\n",
    "    app.run(my_host, port=8050, debug=True)\n",
    "    #app.run(host='0.0.0.0', port=8050, mode='external', debug=True))"
   ]
  }
 ],
 "metadata": {
  "kernelspec": {
   "display_name": "Python 3 (ipykernel)",
   "language": "python",
   "name": "python3"
  },
  "language_info": {
   "codemirror_mode": {
    "name": "ipython",
    "version": 3
   },
   "file_extension": ".py",
   "mimetype": "text/x-python",
   "name": "python",
   "nbconvert_exporter": "python",
   "pygments_lexer": "ipython3",
   "version": "3.12.7"
  }
 },
 "nbformat": 4,
 "nbformat_minor": 5
}
