{
 "cells": [
  {
   "cell_type": "markdown",
   "id": "b0f81b13-ed75-4d8f-8440-783d752a61d0",
   "metadata": {},
   "source": [
    "### Import libraries"
   ]
  },
  {
   "cell_type": "code",
   "execution_count": 3,
   "id": "6497620c-ab8a-490a-9ce0-5ca164afaa1d",
   "metadata": {},
   "outputs": [],
   "source": [
    "# Import Libraries\n",
    "import pandas as pd\n",
    "import plotly.express as px\n",
    "from dash import Dash, dcc, html\n",
    "from sklearn.cluster import KMeans\n",
    "from sklearn.preprocessing import StandardScaler\n",
    "from dash.dependencies import Input, Output\n",
    "import socket"
   ]
  },
  {
   "cell_type": "markdown",
   "id": "ed0e79e4-f87b-4821-99a4-d0aad7485a17",
   "metadata": {},
   "source": [
    "### Customize"
   ]
  },
  {
   "cell_type": "code",
   "execution_count": 4,
   "id": "ca8752b4-9216-43d9-b942-09cedfb125ef",
   "metadata": {},
   "outputs": [],
   "source": [
    "# Customize parameters\n",
    "my_input_file='0402 my_input.csv'\n",
    "my_x_fields = ['Revenue_Growth', 'Customer_Satisfaction', 'Service_Time', 'Training_Hours']"
   ]
  },
  {
   "cell_type": "markdown",
   "id": "6705838f-c6f4-45d1-92e6-45e434d49ebe",
   "metadata": {},
   "source": [
    "### Load data and run clustering "
   ]
  },
  {
   "cell_type": "code",
   "execution_count": 5,
   "id": "27df19c5-9c63-400c-9d55-c229d07de542",
   "metadata": {
    "scrolled": true
   },
   "outputs": [
    {
     "name": "stderr",
     "output_type": "stream",
     "text": [
      "C:\\Users\\ahmed\\anaconda3\\Lib\\site-packages\\sklearn\\cluster\\_kmeans.py:1429: UserWarning: KMeans is known to have a memory leak on Windows with MKL, when there are less chunks than available threads. You can avoid it by setting the environment variable OMP_NUM_THREADS=1.\n",
      "  warnings.warn(\n"
     ]
    }
   ],
   "source": [
    "# Load Dataset \n",
    "data = pd.read_csv(my_input_file)\n",
    "\n",
    "# ML Clustering Analysis\n",
    "X = data[my_x_fields]\n",
    "scaler = StandardScaler()\n",
    "X_scaled = scaler.fit_transform(X)\n",
    "\n",
    "kmeans = KMeans(n_clusters=3, random_state=42)\n",
    "data['Cluster'] = kmeans.fit_predict(X_scaled)\n"
   ]
  },
  {
   "cell_type": "markdown",
   "id": "c99a7fad-4ee6-4dc0-9166-f529988433a8",
   "metadata": {},
   "source": [
    "### Launch Dashboard"
   ]
  },
  {
   "cell_type": "code",
   "execution_count": 6,
   "id": "fd7c22af-fb79-43cb-be82-d9f4d4b8a073",
   "metadata": {},
   "outputs": [
    {
     "name": "stdout",
     "output_type": "stream",
     "text": [
      "Dash app running at http://192.168.1.73:8050\n"
     ]
    },
    {
     "data": {
      "text/html": [
       "\n",
       "        <iframe\n",
       "            width=\"100%\"\n",
       "            height=\"650\"\n",
       "            src=\"http://127.0.0.1:8050/\"\n",
       "            frameborder=\"0\"\n",
       "            allowfullscreen\n",
       "            \n",
       "        ></iframe>\n",
       "        "
      ],
      "text/plain": [
       "<IPython.lib.display.IFrame at 0x1a932e02720>"
      ]
     },
     "metadata": {},
     "output_type": "display_data"
    }
   ],
   "source": [
    "#Display Dash server address\n",
    "ip_address = socket.gethostbyname(socket.gethostname())\n",
    "print(f\"Dash app running at http://{ip_address}:8050\")\n",
    "\n",
    "# Launch Dash App\n",
    "app = Dash(__name__)\n",
    "\n",
    "app.layout = html.Div([\n",
    "    html.H3(\"Balanced Scorecard Dashboard with ML Insights\"),\n",
    "\n",
    "    dcc.Dropdown(\n",
    "        id='metric',\n",
    "        options=[\n",
    "            {'label': 'Revenue Growth (%)', 'value': 'Revenue_Growth'},\n",
    "            {'label': 'Customer Satisfaction', 'value': 'Customer_Satisfaction'},\n",
    "            {'label': 'Service Time (min)', 'value': 'Service_Time'},\n",
    "            {'label': 'Training Hours', 'value': 'Training_Hours'}\n",
    "        ],\n",
    "        value='Revenue_Growth',\n",
    "        clearable=False\n",
    "    ),\n",
    "\n",
    "    dcc.Graph(id='bar-graph'),\n",
    "\n",
    "    html.Br(),\n",
    "    html.H2(\"Clustered Branch Profiles\"),\n",
    "    dcc.Graph(\n",
    "        figure=px.scatter_3d(\n",
    "            data,\n",
    "            x='Revenue_Growth',\n",
    "            y='Customer_Satisfaction',\n",
    "            z='Training_Hours',\n",
    "            color='Cluster',\n",
    "            hover_name='Branch',\n",
    "            title=\"ML-Based Branch Clustering\"\n",
    "        )\n",
    "    )\n",
    "])\n",
    "\n",
    "@app.callback(\n",
    "    Output('bar-graph', 'figure'),\n",
    "    [Input('metric', 'value')]\n",
    ")\n",
    "\n",
    "def update_bar_chart(metric):\n",
    "    fig = px.bar(data, x='Branch', y=metric, color='Cluster', barmode='group',\n",
    "                 title=f\"{metric} by Branch (Clustered)\")\n",
    "    return fig\n",
    "\n",
    "if __name__ == '__main__':\n",
    "   \n",
    "    # For external access prefix the first option  with # and remove the # from the second option\n",
    "    app.run(host='127.0.0.1', port=8050, debug=True)\n",
    "    #app.run(host='0.0.0.0', port=8050, debug=True)\n"
   ]
  },
  {
   "cell_type": "code",
   "execution_count": null,
   "id": "4393d948-7e9b-49a1-96a8-6e4aaf902f6b",
   "metadata": {},
   "outputs": [],
   "source": []
  }
 ],
 "metadata": {
  "kernelspec": {
   "display_name": "Python 3 (ipykernel)",
   "language": "python",
   "name": "python3"
  },
  "language_info": {
   "codemirror_mode": {
    "name": "ipython",
    "version": 3
   },
   "file_extension": ".py",
   "mimetype": "text/x-python",
   "name": "python",
   "nbconvert_exporter": "python",
   "pygments_lexer": "ipython3",
   "version": "3.12.7"
  }
 },
 "nbformat": 4,
 "nbformat_minor": 5
}
