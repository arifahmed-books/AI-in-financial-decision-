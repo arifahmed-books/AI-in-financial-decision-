{
 "cells": [
  {
   "cell_type": "markdown",
   "id": "89f8e595-8998-4206-a574-fcf8ca1fed17",
   "metadata": {},
   "source": [
    "### Import libraries"
   ]
  },
  {
   "cell_type": "code",
   "execution_count": 7,
   "id": "27ec8879-335c-4912-ab57-5c1cf84140e2",
   "metadata": {},
   "outputs": [],
   "source": [
    "# Load libraries\n",
    "import pandas as pd\n",
    "import numpy as np\n",
    "from dash import Dash, html, dcc, Input, Output\n",
    "import plotly.express as px\n",
    "from sklearn.linear_model import LinearRegression\n",
    "import socket"
   ]
  },
  {
   "cell_type": "markdown",
   "id": "4145d618-fe88-499d-9619-48e2097c3762",
   "metadata": {},
   "source": [
    "### Customize"
   ]
  },
  {
   "cell_type": "code",
   "execution_count": 8,
   "id": "52effe9b-d5bc-4600-9799-60c810487832",
   "metadata": {},
   "outputs": [],
   "source": [
    "# Customize parameters\n",
    "my_input_file='0411 my_input.csv'\n",
    "my_x_values=['Customer_Satisfaction', 'Training_Hours', 'Process_Efficiency']\n",
    "my_y_value='Net_Profit_Margin'\n",
    "my_target_profit=13\n",
    "my_target_efficiency=70\n",
    "my_target_training_hours=20\n",
    "my_host = '127.0.0.2'"
   ]
  },
  {
   "cell_type": "markdown",
   "id": "897b8350-2036-4322-8d8d-352753577fa4",
   "metadata": {},
   "source": [
    "### Load data and train model"
   ]
  },
  {
   "cell_type": "code",
   "execution_count": 9,
   "id": "7b0dfb6f-ac25-49a5-8088-707b10e3705e",
   "metadata": {},
   "outputs": [],
   "source": [
    "# load input\n",
    "data=pd.read_csv(my_input_file)\n",
    "\n",
    "# Train model to predict profitability from non-financial indicators\n",
    "X = data[my_x_values]\n",
    "y = data[my_y_value]\n",
    "model = LinearRegression().fit(X, y)\n",
    "data['Predicted_Profit_Margin'] = model.predict(X)"
   ]
  },
  {
   "cell_type": "markdown",
   "id": "72c4931e-d4f7-4cf6-8a42-4397eb31a3da",
   "metadata": {},
   "source": [
    "### Generate messages"
   ]
  },
  {
   "cell_type": "code",
   "execution_count": 10,
   "id": "fdf04142-362d-4bff-8a44-6022b7b086c1",
   "metadata": {},
   "outputs": [],
   "source": [
    "# Strategic Message Generator\n",
    "def generate_message(row, role):\n",
    "    messages = []\n",
    "\n",
    "    # Executive View\n",
    "    if role == 'executive':\n",
    "        if row['Predicted_Profit_Margin'] < my_target_profit:\n",
    "            messages.append(\"?? Profit risk detected. Review training and customer experience strategy.\")\n",
    "        else:\n",
    "            messages.append(\"Branch aligned with profit goals.\")\n",
    "    \n",
    "    # Operations Manager View\n",
    "    if role == 'operations':\n",
    "        if row['Process_Efficiency'] <  my_target_efficiency:\n",
    "            messages.append(\"?? Improve process efficiency to meet operational benchmarks.\")\n",
    "        else:\n",
    "            messages.append(\"Operational efficiency is within acceptable range.\")\n",
    "\n",
    "    # HR Strategy View\n",
    "    if role == 'hr':\n",
    "        if row['Training_Hours'] <  my_target_training_hours:\n",
    "            messages.append(\"?? Training investment is below threshold. Consider upskilling programs.\")\n",
    "        else:\n",
    "            messages.append(\"Sufficient training hours achieved.\")\n",
    "\n",
    "    return \" | \".join(messages)"
   ]
  },
  {
   "cell_type": "markdown",
   "id": "a9b557e3-a881-45d4-83cd-d72087c5e2e3",
   "metadata": {},
   "source": [
    "### Setup dashboard app"
   ]
  },
  {
   "cell_type": "code",
   "execution_count": 11,
   "id": "c05aa288-c6a9-45cf-923b-a06c8e831753",
   "metadata": {},
   "outputs": [],
   "source": [
    "# Build Dash App\n",
    "app = Dash(__name__)\n",
    "\n",
    "app.layout = html.Div([\n",
    "    html.H2(\"Strategy Communication Dashboard\"),\n",
    "\n",
    "    html.Label(\"Select Stakeholder Role:\"),\n",
    "    dcc.Dropdown(\n",
    "        id='role_selector',\n",
    "        options=[\n",
    "            {'label': 'Executive', 'value': 'executive'},\n",
    "            {'label': 'Operations Manager', 'value': 'operations'},\n",
    "            {'label': 'HR', 'value': 'hr'}\n",
    "        ],\n",
    "        value='executive',\n",
    "        clearable=False\n",
    "    ),\n",
    "\n",
    "    dcc.Graph(id='kpi_chart'),\n",
    "    html.Div(id='strategy_messages')\n",
    "])\n"
   ]
  },
  {
   "cell_type": "markdown",
   "id": "bd2b0132-ac12-451f-9ec7-dfaab2fcfafe",
   "metadata": {},
   "source": [
    "### Callback for messaging"
   ]
  },
  {
   "cell_type": "code",
   "execution_count": 12,
   "id": "b2336d5e-357f-4bad-bcbd-0fff3e219481",
   "metadata": {},
   "outputs": [
    {
     "name": "stdout",
     "output_type": "stream",
     "text": [
      "Dash app running at http://192.168.1.73:8050\n"
     ]
    },
    {
     "data": {
      "text/html": [
       "\n",
       "        <iframe\n",
       "            width=\"100%\"\n",
       "            height=\"650\"\n",
       "            src=\"http://127.0.0.2:8050/\"\n",
       "            frameborder=\"0\"\n",
       "            allowfullscreen\n",
       "            \n",
       "        ></iframe>\n",
       "        "
      ],
      "text/plain": [
       "<IPython.lib.display.IFrame at 0x2606c7a7d70>"
      ]
     },
     "metadata": {},
     "output_type": "display_data"
    }
   ],
   "source": [
    "# Callback for KPI Display + Strategic Messaging \n",
    "@app.callback(\n",
    "    Output('kpi_chart', 'figure'),\n",
    "    Output('strategy_messages', 'children'),\n",
    "    Input('role_selector', 'value')\n",
    ")\n",
    "def update_dashboard(role):\n",
    "    # KPI Display\n",
    "    kpi_map = {\n",
    "        'executive': ['Revenue_Growth', 'Net_Profit_Margin', 'Predicted_Profit_Margin'],\n",
    "        'operations': ['Process_Efficiency'],\n",
    "        'hr': ['Training_Hours']\n",
    "    }\n",
    "\n",
    "    selected_kpis = kpi_map[role]\n",
    "    df_melt = data[['Branch'] + selected_kpis].melt(id_vars='Branch', var_name='KPI', value_name='Value')\n",
    "    fig = px.bar(df_melt, x='Branch', y='Value', color='KPI',\n",
    "                 barmode='group', title=f\"KPI View for {role.title()}\")\n",
    "\n",
    "    # Strategic Messages\n",
    "    message_blocks = []\n",
    "    for _, row in data.iterrows():\n",
    "        message = generate_message(row, role)\n",
    "        block = html.Div([\n",
    "            html.Strong(row['Branch'] + \": \"),\n",
    "            html.Span(message)\n",
    "        ])\n",
    "        message_blocks.append(block)\n",
    "\n",
    "    return fig, message_blocks\n",
    "\n",
    "\n",
    "# Display Dash server address\n",
    "ip_address = socket.gethostbyname(socket.gethostname())\n",
    "print(f\"Dash app running at http://{ip_address}:8050\")\n",
    "\n",
    "# Run the App\n",
    "if __name__ == '__main__':\n",
    "    \n",
    "    # For external access prefix the first option  with # and remove the # from the second option\n",
    "    app.run(my_host, port=8050, debug=True)\n",
    "    #app.run(host='0.0.0.0', port=8050, debug=True))"
   ]
  },
  {
   "cell_type": "code",
   "execution_count": null,
   "id": "585ca780-4ce1-422e-b43e-487ad5b18cd8",
   "metadata": {},
   "outputs": [],
   "source": []
  }
 ],
 "metadata": {
  "kernelspec": {
   "display_name": "Python 3 (ipykernel)",
   "language": "python",
   "name": "python3"
  },
  "language_info": {
   "codemirror_mode": {
    "name": "ipython",
    "version": 3
   },
   "file_extension": ".py",
   "mimetype": "text/x-python",
   "name": "python",
   "nbconvert_exporter": "python",
   "pygments_lexer": "ipython3",
   "version": "3.12.7"
  }
 },
 "nbformat": 4,
 "nbformat_minor": 5
}
