{
 "cells": [
  {
   "cell_type": "markdown",
   "id": "a2e025b9-c1e1-421c-aa04-53db0572eaba",
   "metadata": {},
   "source": [
    "### Import libraries"
   ]
  },
  {
   "cell_type": "code",
   "execution_count": 6,
   "id": "e2ce1a04-b179-4a1f-9c0a-0f10f3fbc80e",
   "metadata": {},
   "outputs": [],
   "source": [
    "#importing libraries \n",
    "import pandas as pd\n",
    "import numpy as np\n",
    "from datetime import datetime\n",
    "import matplotlib.pyplot as plt\n",
    "from sklearn.linear_model import LinearRegression\n",
    "from sklearn.metrics import r2_score, mean_squared_error, mean_absolute_error\n",
    "import openpyxl\n",
    "from openpyxl.drawing.image import Image as XLImage\n",
    "from openpyxl import load_workbook"
   ]
  },
  {
   "cell_type": "markdown",
   "id": "4bea810f-a3a2-466a-b4be-ec16a0d5103a",
   "metadata": {},
   "source": [
    "### Customize"
   ]
  },
  {
   "cell_type": "code",
   "execution_count": 7,
   "id": "f72a5767-8545-42ef-af4d-4bc7890b4762",
   "metadata": {},
   "outputs": [],
   "source": [
    "# Customize parameters \n",
    "input_path = \"0801 Raw Data.csv\"\n",
    "# Don’t include the extension for this file\n",
    "output_path = \"0801 CLV_Regression_Result\"\n",
    "image_path = \"0801 CLV_Scatter.png\"\n",
    "start_date = pd.to_datetime(\"2024-01-01\")\n",
    "cutoff_date = pd.to_datetime(\"2024-09-30\")\n",
    "my_features=[\"ActivityPeriodDays\", \"TotalPurchases\", \"DaysSinceLastPurchase\"]\n",
    "my_target='CLV'"
   ]
  },
  {
   "cell_type": "markdown",
   "id": "464e37ee-9995-41de-8699-9bcda18f1fe2",
   "metadata": {},
   "source": [
    "### Preprocess data"
   ]
  },
  {
   "cell_type": "code",
   "execution_count": 8,
   "id": "99872844-8115-49cb-a789-4652a7ace32a",
   "metadata": {},
   "outputs": [],
   "source": [
    "# Check date related issues \n",
    "df = pd.read_csv(input_path)\n",
    "df[\"InvoiceDate\"] = pd.to_datetime(df[\"InvoiceDate\"], dayfirst=True, errors='coerce')\n",
    "\n",
    "if start_date not in df[\"InvoiceDate\"].values:\n",
    "    raise ValueError(\"Start date not present in data.Please re-enter the correct date and try again.\")\n",
    "    \n",
    "if cutoff_date not in df[\"InvoiceDate\"].values:\n",
    "    raise ValueError(\"Cutoff date not present in data.Please re-enter the correct date and try again.\")\n",
    "    \n",
    "df.dropna(subset=[\"InvoiceDate\", \"CustomerID\"], inplace=True)\n",
    "\n",
    "clv_df = df.groupby(\"CustomerID\").agg(\n",
    "    CLV=(\"InvoiceAmount\", \"sum\")\n",
    ").reset_index()\n",
    "\n",
    "df_truncated = df[(df[\"InvoiceDate\"] >= start_date) & (df[\"InvoiceDate\"] <= cutoff_date)]\n"
   ]
  },
  {
   "cell_type": "markdown",
   "id": "e9e01dc2-5224-4d4d-a6bf-20c57a262ad2",
   "metadata": {},
   "source": [
    "### Extract behavior variables "
   ]
  },
  {
   "cell_type": "code",
   "execution_count": 9,
   "id": "cbf89768-fb75-4f3d-9cd2-d9493df2c452",
   "metadata": {},
   "outputs": [],
   "source": [
    "# Compute vaules needed to compute CLV\n",
    "\n",
    "behavior_df = df_truncated.groupby(\"CustomerID\").agg(\n",
    "    FirstPurchaseDate=(\"InvoiceDate\", \"min\"),\n",
    "    LastPurchaseDate=(\"InvoiceDate\", \"max\"),\n",
    "    TotalPurchases=(\"InvoiceDate\", \"count\")\n",
    ").reset_index()\n",
    "\n",
    "behavior_df[\"ActivityPeriodDays\"] = (behavior_df[\"LastPurchaseDate\"] - behavior_df[\"FirstPurchaseDate\"]).dt.days\n",
    "\n",
    "behavior_df[\"DaysSinceLastPurchase\"] = (cutoff_date - behavior_df[\"LastPurchaseDate\"]).dt.days\n",
    "\n",
    "full_df = pd.merge(behavior_df, clv_df, on=\"CustomerID\", how=\"inner\")"
   ]
  },
  {
   "cell_type": "markdown",
   "id": "db43cfac-9dff-47cf-a68f-65a108b8334c",
   "metadata": {},
   "source": [
    "### Run regression "
   ]
  },
  {
   "cell_type": "code",
   "execution_count": 10,
   "id": "49d32199-41b4-4112-9367-245701053daf",
   "metadata": {},
   "outputs": [
    {
     "ename": "NameError",
     "evalue": "name 'intercept' is not defined",
     "output_type": "error",
     "traceback": [
      "\u001b[1;31m---------------------------------------------------------------------------\u001b[0m",
      "\u001b[1;31mNameError\u001b[0m                                 Traceback (most recent call last)",
      "Cell \u001b[1;32mIn[10], line 13\u001b[0m\n\u001b[0;32m     10\u001b[0m y_pred \u001b[38;5;241m=\u001b[39m model\u001b[38;5;241m.\u001b[39mpredict(X)\n\u001b[0;32m     12\u001b[0m \u001b[38;5;66;03m# Build the regression equation string\u001b[39;00m\n\u001b[1;32m---> 13\u001b[0m equation \u001b[38;5;241m=\u001b[39m \u001b[38;5;124mf\u001b[39m\u001b[38;5;124m\"\u001b[39m\u001b[38;5;132;01m{\u001b[39;00mmy_target\u001b[38;5;132;01m}\u001b[39;00m\u001b[38;5;124m = \u001b[39m\u001b[38;5;132;01m{\u001b[39;00mintercept\u001b[38;5;132;01m:\u001b[39;00m\u001b[38;5;124m.2f\u001b[39m\u001b[38;5;132;01m}\u001b[39;00m\u001b[38;5;124m\"\u001b[39m\n\u001b[0;32m     14\u001b[0m \u001b[38;5;28;01mfor\u001b[39;00m feature, coef \u001b[38;5;129;01min\u001b[39;00m \u001b[38;5;28mzip\u001b[39m(my_features, coefficients):\n\u001b[0;32m     15\u001b[0m     equation \u001b[38;5;241m+\u001b[39m\u001b[38;5;241m=\u001b[39m \u001b[38;5;124mf\u001b[39m\u001b[38;5;124m\"\u001b[39m\u001b[38;5;124m + (\u001b[39m\u001b[38;5;132;01m{\u001b[39;00mcoef\u001b[38;5;132;01m:\u001b[39;00m\u001b[38;5;124m.2f\u001b[39m\u001b[38;5;132;01m}\u001b[39;00m\u001b[38;5;124m × \u001b[39m\u001b[38;5;132;01m{\u001b[39;00mfeature\u001b[38;5;132;01m}\u001b[39;00m\u001b[38;5;124m)\u001b[39m\u001b[38;5;124m\"\u001b[39m\n",
      "\u001b[1;31mNameError\u001b[0m: name 'intercept' is not defined"
     ]
    }
   ],
   "source": [
    "# Run linear regression and store model output values  \n",
    "\n",
    "X = full_df[my_features]\n",
    "y = full_df[my_target]\n",
    "\n",
    "model = LinearRegression()\n",
    "model.fit(X, y)\n",
    "\n",
    "# Predict values\n",
    "y_pred = model.predict(X)\n",
    "\n",
    "# Build the regression equation string\n",
    "equation = f\"{my_target} = {intercept:.2f}\"\n",
    "for feature, coef in zip(my_features, coefficients):\n",
    "    equation += f\" + ({coef:.2f} × {feature})\"\n",
    "    \n",
    "# Model fit\n",
    "r2 = r2_score(y, y_pred)\n",
    "rmse = np.sqrt(mean_squared_error(y, y_pred))\n",
    "mae = mean_absolute_error(y, y_pred)\n",
    "\n",
    "# Store model outputs\n",
    "coefficients = model.coef_\n",
    "intercept = model.intercept_\n"
   ]
  },
  {
   "cell_type": "markdown",
   "id": "63e8f219-af7e-4cb7-a94d-c2dc52a6ad81",
   "metadata": {},
   "source": [
    "### Plot and save to Excel"
   ]
  },
  {
   "cell_type": "code",
   "execution_count": null,
   "id": "08c7cce4-32c0-4ae2-8bf1-fdf0fd7b0af7",
   "metadata": {},
   "outputs": [],
   "source": [
    "# read values to plot\n",
    "\n",
    "full_df[\"Predicted_CLV\"] = y_pred\n",
    "\n",
    "plt.figure(figsize=(8, 6))\n",
    "plt.scatter(full_df[\"CLV\"], full_df[\"Predicted_CLV\"], alpha=0.6)\n",
    "plt.plot(\n",
    "    [full_df[\"CLV\"].min(), full_df[\"CLV\"].max()],\n",
    "    [full_df[\"CLV\"].min(), full_df[\"CLV\"].max()],\n",
    "    color='red', linestyle='--'\n",
    ")\n",
    "plt.title(\"Actual vs Predicted CLV\")\n",
    "plt.xlabel(\"Actual CLV\")\n",
    "plt.ylabel(\"Predicted CLV\")\n",
    "plt.grid(True)\n",
    "plt.tight_layout()\n",
    "plt.savefig(image_path)\n",
    "plt.show()\n",
    "plt.close()\n",
    "\n",
    "print(\"Regression Equation:\")\n",
    "print(equation)\n",
    "print()\n",
    "print(\"Model fit metrices\")\n",
    "print(f\"r2 = {r2:.2f}\")\n",
    "\n",
    "print(f\"RMSE = {rmse:.2f}\")\n",
    "print(f\"MAE = {mae:.2f}\")\n",
    "\n",
    "# save data to CSV and Excel file\n",
    "full_df.to_csv(f\"{output_path}.csv\", index=False)\n",
    "full_df.to_excel(f\"{output_path}_excel.xlsx\", sheet_name=\"CLV Data\", index=False)"
   ]
  },
  {
   "cell_type": "markdown",
   "id": "ccaa4437-5de0-4a50-aedc-4201aad0ef91",
   "metadata": {},
   "source": [
    "### Create formatted  report (Optional)"
   ]
  },
  {
   "cell_type": "code",
   "execution_count": null,
   "id": "a2151f75-1b82-4b6b-af11-c4f761ae806e",
   "metadata": {},
   "outputs": [],
   "source": [
    "# Create formatted report in Excel\n",
    "\n",
    "wb = openpyxl.load_workbook(f\"{output_path}_excel.xlsx\")\n",
    "ws = wb.create_sheet(\"Regression Summary\")\n",
    "\n",
    "ws[\"A1\"] = \"Regression Equation:\"\n",
    "ws[\"A2\"] = f\"CLV = {intercept:.2f} + ({coefficients[0]:.2f})*ActivityPeriodDays + ({coefficients[1]:.2f})*TotalPurchases + ({coefficients[2]:.2f})*DaysSinceLastPurchase\"\n",
    "ws[\"A4\"] = \"Regression Statistics:\"\n",
    "ws[\"A5\"] = f\"R²: {r2:.4f}\"\n",
    "ws[\"A6\"] = f\"RMSE: {rmse:.2f}\"\n",
    "ws[\"A7\"] = f\"MAE: {mae:.2f}\"\n",
    "\n",
    "img = XLImage(image_path)\n",
    "img.anchor = \"A9\"\n",
    "ws.add_image(img)\n",
    "\n",
    "ws = wb[\"Regression Summary\"]\n",
    "\n",
    "repeat_customers = full_df[full_df[\"TotalPurchases\"] > 1].copy()\n",
    "repeat_customers[\"AvgDaysBetweenPurchases\"] = repeat_customers[\"ActivityPeriodDays\"] / (repeat_customers[\"TotalPurchases\"] - 1)\n",
    "\n",
    "max_purchases = repeat_customers[\"TotalPurchases\"].max()\n",
    "purchase_95th = repeat_customers[\"TotalPurchases\"].quantile(0.95)\n",
    "avg_purchase_freq = repeat_customers[\"AvgDaysBetweenPurchases\"].mean()\n",
    "low_freq = repeat_customers[\"AvgDaysBetweenPurchases\"].quantile(0.05)\n",
    "high_freq = repeat_customers[\"AvgDaysBetweenPurchases\"].quantile(0.95)\n",
    "\n",
    "ws[\"N2\"] = \"Behavioral Insights on Repeat Customers\"\n",
    "ws[\"N3\"] = f\"Number of repeat customers analyzed: {len(repeat_customers)}\"\n",
    "ws[\"N4\"] = f\"95% made fewer than {purchase_95th:.0f} purchases (max observed: {max_purchases})\"\n",
    "ws[\"N5\"] = f\"Average time between purchases: {avg_purchase_freq:.1f} days\"\n",
    "ws[\"N6\"] = f\"Majority repurchase every {low_freq:.0f} to {high_freq:.0f} days\"\n",
    "\n",
    "# Save formatted report in a wirksheet in Excel\n",
    "wb.save(f\"{output_path}_excel.xlsx\")\n",
    "print(f\"CLV Prediction has been saved at: {output_path}\")\n",
    "print(f\"The actual and oredicyed plot has been saved at: {image_path}\")"
   ]
  },
  {
   "cell_type": "code",
   "execution_count": null,
   "id": "9de15c87-b3ab-4b8a-aeef-2c2eb0fcc73a",
   "metadata": {},
   "outputs": [],
   "source": []
  }
 ],
 "metadata": {
  "kernelspec": {
   "display_name": "Python 3 (ipykernel)",
   "language": "python",
   "name": "python3"
  },
  "language_info": {
   "codemirror_mode": {
    "name": "ipython",
    "version": 3
   },
   "file_extension": ".py",
   "mimetype": "text/x-python",
   "name": "python",
   "nbconvert_exporter": "python",
   "pygments_lexer": "ipython3",
   "version": "3.12.7"
  }
 },
 "nbformat": 4,
 "nbformat_minor": 5
}
