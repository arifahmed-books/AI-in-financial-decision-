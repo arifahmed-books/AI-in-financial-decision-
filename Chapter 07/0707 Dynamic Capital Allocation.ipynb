{
 "cells": [
  {
   "cell_type": "markdown",
   "id": "d92cd38d-7b82-4f60-9d67-b8854560df06",
   "metadata": {},
   "source": [
    "### Import libraries"
   ]
  },
  {
   "cell_type": "code",
   "execution_count": 3,
   "id": "e11a46de-00ed-4afb-9ea6-ced74302e934",
   "metadata": {},
   "outputs": [],
   "source": [
    "import pandas as pd\n",
    "import matplotlib.pyplot as plt\n",
    "from itertools import product"
   ]
  },
  {
   "cell_type": "markdown",
   "id": "ca392a27-a338-4106-a94d-47c0dd3514d4",
   "metadata": {},
   "source": [
    "### Customize"
   ]
  },
  {
   "cell_type": "code",
   "execution_count": 5,
   "id": "206374ef-4d3e-4f43-9bab-774213bf5de6",
   "metadata": {},
   "outputs": [],
   "source": [
    "# Define inputs\n",
    "base_profits = {'A': 10, 'B': 11, 'C': 12}\n",
    "max_supply = {'A': 10000, 'B': 8000, 'C': 7000}\n",
    "total_supply = 20000\n",
    "\n",
    "# Portfolio constraints\n",
    "min_percentage = 0.30  \n",
    "max_percentage = 0.50  \n",
    "\n",
    "# Profit fluctuation scenarios (-5%, 0%, +5%)\n",
    "fluctuations = [-0.10, 0, 0.10]\n",
    "\n",
    "csv_file=\"0707 dynamic_allocation_results.csv\"\n",
    "plot_image=\"0707 Asset_allocation_histogram.png\""
   ]
  },
  {
   "cell_type": "markdown",
   "id": "82b6eacd-4fb5-448c-89e5-0cb7250c5f51",
   "metadata": {},
   "source": [
    "### Create computation function"
   ]
  },
  {
   "cell_type": "code",
   "execution_count": 7,
   "id": "c3ca954b-6643-4896-874f-fcb72aef4e6c",
   "metadata": {},
   "outputs": [],
   "source": [
    "#create the numebr of scenarios\n",
    "scenarios = list(product(fluctuations, repeat=3))\n",
    "\n",
    "# Create lower and upper limits\n",
    "min_limit = total_supply * min_percentage  \n",
    "max_limit = total_supply * max_percentage  \n",
    "\n",
    "# Function to optimize allocation dynamically\n",
    "def optimize_allocation(profits):\n",
    "    allocation = {'A': 0, 'B': 0, 'C': 0}\n",
    "    remaining_supply = total_supply\n",
    "    \n",
    "    # Sort products by profitability dynamically\n",
    "    sorted_products = sorted(profits.keys(), key=lambda x: -profits[x])\n",
    "    \n",
    "    for product in sorted_products:\n",
    "        if remaining_supply == 0:\n",
    "            break\n",
    "        max_possible = min(max_supply[product], max_limit, remaining_supply)\n",
    "        min_possible = min_limit\n",
    "        \n",
    "        # Ensure each product meets at least the minimum constraint\n",
    "        allocation[product] = max(min_possible, min(max_possible, remaining_supply))\n",
    "        remaining_supply -= allocation[product]\n",
    "    \n",
    "    return allocation"
   ]
  },
  {
   "cell_type": "markdown",
   "id": "2a4d59ff-a6b0-4cda-9876-c1e0369d961f",
   "metadata": {},
   "source": [
    "### Compute initial and updated scenarios; Show management decision "
   ]
  },
  {
   "cell_type": "code",
   "execution_count": 9,
   "id": "7978519f-e7df-4739-9a37-21bc5c6a5a19",
   "metadata": {},
   "outputs": [],
   "source": [
    "# Process each scenario\n",
    "allocation_results = []\n",
    "for i, scenario in enumerate(scenarios, start=1):\n",
    "    adjusted_profits = {product: round(base_profits[product] * (1 + scenario[i]), 2) for i, product in enumerate(base_profits)}\n",
    "    optimal_allocation = optimize_allocation(adjusted_profits)\n",
    "    total_profit = sum(optimal_allocation[p] * adjusted_profits[p] for p in base_profits)\n",
    "    allocation_results.append([\n",
    "        i,  # Serial number starting from 1\n",
    "        scenario[0], scenario[1], scenario[2],  # Profit fluctuations\n",
    "        adjusted_profits['A'], adjusted_profits['B'], adjusted_profits['C'],  # Adjusted profits\n",
    "        optimal_allocation['A'], optimal_allocation['B'], optimal_allocation['C'],  # Allocations\n",
    "        total_profit  # Total profit\n",
    "    ])\n"
   ]
  },
  {
   "cell_type": "markdown",
   "id": "6ec604ed-cd8f-4efa-8950-c373ff0b6dbb",
   "metadata": {},
   "source": [
    "### Display and save results and histogram  "
   ]
  },
  {
   "cell_type": "code",
   "execution_count": 11,
   "id": "9973164e-cdc7-482c-88eb-8c99881b0760",
   "metadata": {},
   "outputs": [
    {
     "name": "stdout",
     "output_type": "stream",
     "text": [
      "    Serial  Fluctuation A  Fluctuation B  Fluctuation C  Adjusted Profit A  \\\n",
      "0        1           -0.1           -0.1           -0.1                9.0   \n",
      "1        2           -0.1           -0.1            0.0                9.0   \n",
      "2        3           -0.1           -0.1            0.1                9.0   \n",
      "3        4           -0.1            0.0           -0.1                9.0   \n",
      "4        5           -0.1            0.0            0.0                9.0   \n",
      "5        6           -0.1            0.0            0.1                9.0   \n",
      "6        7           -0.1            0.1           -0.1                9.0   \n",
      "7        8           -0.1            0.1            0.0                9.0   \n",
      "8        9           -0.1            0.1            0.1                9.0   \n",
      "9       10            0.0           -0.1           -0.1               10.0   \n",
      "10      11            0.0           -0.1            0.0               10.0   \n",
      "11      12            0.0           -0.1            0.1               10.0   \n",
      "12      13            0.0            0.0           -0.1               10.0   \n",
      "13      14            0.0            0.0            0.0               10.0   \n",
      "14      15            0.0            0.0            0.1               10.0   \n",
      "15      16            0.0            0.1           -0.1               10.0   \n",
      "16      17            0.0            0.1            0.0               10.0   \n",
      "17      18            0.0            0.1            0.1               10.0   \n",
      "18      19            0.1           -0.1           -0.1               11.0   \n",
      "19      20            0.1           -0.1            0.0               11.0   \n",
      "20      21            0.1           -0.1            0.1               11.0   \n",
      "21      22            0.1            0.0           -0.1               11.0   \n",
      "22      23            0.1            0.0            0.0               11.0   \n",
      "23      24            0.1            0.0            0.1               11.0   \n",
      "24      25            0.1            0.1           -0.1               11.0   \n",
      "25      26            0.1            0.1            0.0               11.0   \n",
      "26      27            0.1            0.1            0.1               11.0   \n",
      "\n",
      "    Adjusted Profit B  Adjusted Profit C  Allocation A  Allocation B  \\\n",
      "0                 9.9               10.8        6000.0        8000.0   \n",
      "1                 9.9               12.0        6000.0        8000.0   \n",
      "2                 9.9               13.2        6000.0        8000.0   \n",
      "3                11.0               10.8        6000.0        8000.0   \n",
      "4                11.0               12.0        6000.0        8000.0   \n",
      "5                11.0               13.2        6000.0        8000.0   \n",
      "6                12.1               10.8        6000.0        8000.0   \n",
      "7                12.1               12.0        6000.0        8000.0   \n",
      "8                12.1               13.2        6000.0        8000.0   \n",
      "9                 9.9               10.8       10000.0        6000.0   \n",
      "10                9.9               12.0       10000.0        6000.0   \n",
      "11                9.9               13.2       10000.0        6000.0   \n",
      "12               11.0               10.8        6000.0        8000.0   \n",
      "13               11.0               12.0        6000.0        8000.0   \n",
      "14               11.0               13.2        6000.0        8000.0   \n",
      "15               12.1               10.8        6000.0        8000.0   \n",
      "16               12.1               12.0        6000.0        8000.0   \n",
      "17               12.1               13.2        6000.0        8000.0   \n",
      "18                9.9               10.8       10000.0        6000.0   \n",
      "19                9.9               12.0       10000.0        6000.0   \n",
      "20                9.9               13.2       10000.0        6000.0   \n",
      "21               11.0               10.8       10000.0        8000.0   \n",
      "22               11.0               12.0       10000.0        6000.0   \n",
      "23               11.0               13.2       10000.0        6000.0   \n",
      "24               12.1               10.8       10000.0        8000.0   \n",
      "25               12.1               12.0        6000.0        8000.0   \n",
      "26               12.1               13.2        6000.0        8000.0   \n",
      "\n",
      "    Allocation C  Total Profit  \n",
      "0         7000.0      208800.0  \n",
      "1         7000.0      217200.0  \n",
      "2         7000.0      225600.0  \n",
      "3         7000.0      217600.0  \n",
      "4         7000.0      226000.0  \n",
      "5         7000.0      234400.0  \n",
      "6         7000.0      226400.0  \n",
      "7         7000.0      234800.0  \n",
      "8         7000.0      243200.0  \n",
      "9         7000.0      235000.0  \n",
      "10        7000.0      243400.0  \n",
      "11        7000.0      251800.0  \n",
      "12        7000.0      223600.0  \n",
      "13        7000.0      232000.0  \n",
      "14        7000.0      240400.0  \n",
      "15        7000.0      232400.0  \n",
      "16        7000.0      240800.0  \n",
      "17        7000.0      249200.0  \n",
      "18        7000.0      245000.0  \n",
      "19        7000.0      253400.0  \n",
      "20        7000.0      261800.0  \n",
      "21        6000.0      262800.0  \n",
      "22        7000.0      260000.0  \n",
      "23        7000.0      268400.0  \n",
      "24        6000.0      271600.0  \n",
      "25        7000.0      246800.0  \n",
      "26        7000.0      255200.0  \n",
      "Results saved to 0707 dynamic_allocation_results.csv\n"
     ]
    },
    {
     "data": {
      "image/png": "[encoded data removed]",
      "text/plain": [
       "<Figure size 800x600 with 1 Axes>"
      ]
     },
     "metadata": {},
     "output_type": "display_data"
    },
    {
     "name": "stdout",
     "output_type": "stream",
     "text": [
      "Histogram saved 0707 Asset_allocation_histogram.png\n"
     ]
    },
    {
     "data": {
      "text/plain": [
       "<Figure size 640x480 with 0 Axes>"
      ]
     },
     "metadata": {},
     "output_type": "display_data"
    }
   ],
   "source": [
    "\n",
    "# Convert results to DataFrame\n",
    "df_results = pd.DataFrame(allocation_results, columns=[\n",
    "    'Serial', 'Fluctuation A', 'Fluctuation B', 'Fluctuation C',\n",
    "    'Adjusted Profit A', 'Adjusted Profit B', 'Adjusted Profit C',\n",
    "    'Allocation A', 'Allocation B', 'Allocation C',\n",
    "    'Total Profit'\n",
    "])\n",
    "\n",
    "# Display the results\n",
    "print(df_results)\n",
    "\n",
    "# Save to CSV\n",
    "df_results.to_csv(csv_file, index=False)\n",
    "print (f\"Results saved to {csv_file}\")\n",
    "\n",
    "# Plot histogram of Total Profit\n",
    "plt.figure(figsize=(8,6))\n",
    "plt.hist(df_results['Total Profit'], bins=5, edgecolor='black', alpha=0.7)\n",
    "plt.xlabel('Total Profit')\n",
    "plt.ylabel('Frequency')\n",
    "plt.title('Histogram of Total Profit Across Scenarios')\n",
    "plt.grid(axis='y', linestyle='--', alpha=0.7)\n",
    "plt.show()\n",
    "\n",
    "# Save plot as an image file\n",
    "plt.savefig(plot_image, dpi=300)\n",
    "print(f\"Histogram saved {plot_image}\")\n",
    "plt.show()"
   ]
  },
  {
   "cell_type": "code",
   "execution_count": null,
   "id": "88cc368d-cea6-4c42-b4ec-0ec57ba4a595",
   "metadata": {},
   "outputs": [],
   "source": []
  }
 ],
 "metadata": {
  "kernelspec": {
   "display_name": "Python 3 (ipykernel)",
   "language": "python",
   "name": "python3"
  },
  "language_info": {
   "codemirror_mode": {
    "name": "ipython",
    "version": 3
   },
   "file_extension": ".py",
   "mimetype": "text/x-python",
   "name": "python",
   "nbconvert_exporter": "python",
   "pygments_lexer": "ipython3",
   "version": "3.12.7"
  }
 },
 "nbformat": 4,
 "nbformat_minor": 5
}
