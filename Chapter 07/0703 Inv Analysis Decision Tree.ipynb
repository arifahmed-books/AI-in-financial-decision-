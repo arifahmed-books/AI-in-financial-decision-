{
 "cells": [
  {
   "cell_type": "markdown",
   "id": "87142c72-eb0f-49e3-b0ee-cfb83e6309a1",
   "metadata": {},
   "source": [
    "### Import libraries"
   ]
  },
  {
   "cell_type": "code",
   "execution_count": 3,
   "id": "7b10e19b-589f-43e2-a577-7d5068d67ca8",
   "metadata": {},
   "outputs": [],
   "source": [
    "import pandas as pd\n",
    "from sklearn.tree import DecisionTreeClassifier\n",
    "from sklearn.model_selection import train_test_split\n",
    "from sklearn.metrics import accuracy_score"
   ]
  },
  {
   "cell_type": "markdown",
   "id": "a69cb180-8f1e-4025-b0e0-b5bebe210bfd",
   "metadata": {},
   "source": [
    "### Customize"
   ]
  },
  {
   "cell_type": "code",
   "execution_count": 5,
   "id": "8433436b-dfc6-4df3-a43e-bc137e96b166",
   "metadata": {},
   "outputs": [],
   "source": [
    "# Customize\n",
    "my_train_data=\"0703 Train Data.csv\"\n",
    "my_new_cases=\"0703 New Cases.csv\"\n",
    "my_results=\"0703 predicted_new_cases.csv\"\n",
    "my_decision_rules=\"0703 decision_rules.txt\""
   ]
  },
  {
   "cell_type": "markdown",
   "id": "62e1f46d-be2b-4b43-93c2-b026956554c3",
   "metadata": {},
   "source": [
    "### Load and prepare the training data"
   ]
  },
  {
   "cell_type": "code",
   "execution_count": 7,
   "id": "3ba1738f-8d03-47c9-bbe5-43667653d6c7",
   "metadata": {},
   "outputs": [],
   "source": [
    "# Loading  the training data\n",
    "\n",
    "train_data_path = my_train_data  # Replace with your actual file path\n",
    "train_data = pd.read_csv(train_data_path)\n",
    "\n",
    "# Drop the identifier and separate the target variable\n",
    "X = train_data.drop(columns=['Code', 'Success'])\n",
    "y = train_data['Success']\n",
    "\n",
    "# Fill missing numerical values with the mean\n",
    "X_filled = X.fillna(X.mean())\n",
    "\n",
    "# Split the data into training and testing sets\n",
    "X_train, X_test, y_train, y_test = train_test_split(X_filled, y, test_size=0.2, random_state=42)\n"
   ]
  },
  {
   "cell_type": "markdown",
   "id": "68160911-4abc-4400-93f3-6090ed6d7c06",
   "metadata": {},
   "source": [
    "### Train the decision tree mode, evaluate, and predict"
   ]
  },
  {
   "cell_type": "code",
   "execution_count": 9,
   "id": "e84d26fe-092a-444a-b2cf-d14258491b89",
   "metadata": {},
   "outputs": [],
   "source": [
    "# Train the decision tree model\n",
    "decision_tree = DecisionTreeClassifier(random_state=42)\n",
    "decision_tree.fit(X_train, y_train)\n",
    "\n",
    "# Evaluate the model on the testing data\n",
    "y_pred = decision_tree.predict(X_test)\n",
    "accuracy = accuracy_score(y_test, y_pred)\n",
    "\n",
    "# Load new cases and predict their success\n",
    "new_cases_path = my_new_cases  # Replace with your actual file path\n",
    "new_cases_data = pd.read_csv(new_cases_path)\n",
    "\n",
    "# Prepare new cases data by dropping unnecessary columns and filling missing values\n",
    "new_cases_filled = new_cases_data.drop(columns=['Code', 'Success']).fillna(X.mean())\n",
    "\n",
    "# Predict the 'Success' for the new cases\n",
    "new_cases_predictions = decision_tree.predict(new_cases_filled)\n",
    "new_cases_data['Predicted Success'] = new_cases_predictions"
   ]
  },
  {
   "cell_type": "markdown",
   "id": "312ec218-7890-425f-8579-6a4ffdf362ef",
   "metadata": {},
   "source": [
    "### Save prediction "
   ]
  },
  {
   "cell_type": "code",
   "execution_count": 11,
   "id": "53c8408e-3fb5-4556-bb56-cf5292101a89",
   "metadata": {},
   "outputs": [
    {
     "name": "stdout",
     "output_type": "stream",
     "text": [
      "Predictions saved to 0703 predicted_new_cases.csv\n"
     ]
    }
   ],
   "source": [
    "# Save the prediction output as a CSV file\n",
    "output_csv_path = my_results\n",
    "new_cases_data[['Code', 'Predicted Success']].to_csv(output_csv_path, index=False)\n",
    "print(f\"Predictions saved to {output_csv_path}\")\n"
   ]
  },
  {
   "cell_type": "markdown",
   "id": "2f003fce-c2c9-4c6f-b830-ddcdbf748b51",
   "metadata": {},
   "source": [
    "### Extract decision tree and save decision rules "
   ]
  },
  {
   "cell_type": "code",
   "execution_count": 13,
   "id": "9a1e9792-a2aa-497a-8248-7db7b2156ddf",
   "metadata": {},
   "outputs": [
    {
     "name": "stdout",
     "output_type": "stream",
     "text": [
      "Accuracy of the model on test data: 0.83\n",
      "Decision rules saved to 0703 decision_rules.txt\n"
     ]
    }
   ],
   "source": [
    "# Extract decision rules in text statement form\n",
    "\n",
    "def tree_to_rules(decision_tree, feature_names):\n",
    "    \"\"\"\n",
    "    Traverse the decision tree to extract decision rules as text statements.\n",
    "    Each rule is formatted as:\n",
    "    \"If [condition1] and [condition2] and ... then predict class X.\"\n",
    "    \"\"\"\n",
    "    tree_ = decision_tree.tree_\n",
    "    # Map feature indices to names (leaf nodes have feature index of -2)\n",
    "    feature_name = [feature_names[i] if i != -2 else \"undefined!\" for i in tree_.feature]\n",
    "    rules = []\n",
    "    \n",
    "    def recurse(node, path):\n",
    "        # If the node is not a leaf, traverse its children\n",
    "        if tree_.feature[node] != -2:\n",
    "            name = feature_name[node]\n",
    "            threshold = tree_.threshold[node]\n",
    "            # Condition for the left child (feature value <= threshold)\n",
    "            left_rule = f\"{name} <= {threshold:.2f}\"\n",
    "            recurse(tree_.children_left[node], path + [left_rule])\n",
    "            # Condition for the right child (feature value > threshold)\n",
    "            right_rule = f\"{name} > {threshold:.2f}\"\n",
    "            recurse(tree_.children_right[node], path + [right_rule])\n",
    "        else:\n",
    "            # At a leaf node, retrieve the predicted class\n",
    "            value = tree_.value[node]\n",
    "            class_idx = value.argmax()  # Class with the highest count\n",
    "            # Combine all conditions in the current path\n",
    "            rule_statement = f\"If {' and '.join(path)}, then predict class {class_idx}.\"\n",
    "            rules.append(rule_statement)\n",
    "    \n",
    "    recurse(0, [])\n",
    "    return rules\n",
    "\n",
    "# Extract the decision rules using our custom function\n",
    "rules_list = tree_to_rules(decision_tree, list(X_filled.columns))\n",
    "\n",
    "# Save the decision rules as a text file in plain text statement form\n",
    "output_txt_path = my_decision_rules\n",
    "with open(output_txt_path, \"w\") as f:\n",
    "    f.write(\"Decision Tree Rules (Text Statement Form):\\n\\n\")\n",
    "    for rule in rules_list:\n",
    "        f.write(rule + \"\\n\")\n",
    "print(f\"Accuracy of the model on test data: {accuracy:.2f}\")\n",
    "print(f\"Decision rules saved to {output_txt_path}\")\n"
   ]
  },
  {
   "cell_type": "markdown",
   "id": "558d50e4-6fe9-401b-8ca0-b0dae5574a0b",
   "metadata": {},
   "source": [
    "### Display the prediction results "
   ]
  },
  {
   "cell_type": "code",
   "execution_count": 15,
   "id": "1fa9ecbc-7f5e-4066-a54a-7fbe8020df23",
   "metadata": {},
   "outputs": [
    {
     "name": "stdout",
     "output_type": "stream",
     "text": [
      "Prediction Results:\n",
      "        Code Predicted Success\n",
      "0    Proj_90                 1\n",
      "1    Proj_91                 1\n",
      "2    Proj_92                 1\n",
      "3    Proj_93                 1\n",
      "4    Proj_94                 0\n",
      "5    Proj_95                 1\n",
      "6    Proj_96                 1\n",
      "7    Proj_97                 1\n",
      "8    Proj_98                 1\n",
      "9    Proj_99                 1\n",
      "10  Proj_100                 1\n"
     ]
    }
   ],
   "source": [
    "# Display results\n",
    "print(\"Prediction Results:\")\n",
    "print(new_cases_data[['Code', 'Predicted Success']])"
   ]
  }
 ],
 "metadata": {
  "kernelspec": {
   "display_name": "Python 3 (ipykernel)",
   "language": "python",
   "name": "python3"
  },
  "language_info": {
   "codemirror_mode": {
    "name": "ipython",
    "version": 3
   },
   "file_extension": ".py",
   "mimetype": "text/x-python",
   "name": "python",
   "nbconvert_exporter": "python",
   "pygments_lexer": "ipython3",
   "version": "3.12.4"
  }
 },
 "nbformat": 4,
 "nbformat_minor": 5
}
