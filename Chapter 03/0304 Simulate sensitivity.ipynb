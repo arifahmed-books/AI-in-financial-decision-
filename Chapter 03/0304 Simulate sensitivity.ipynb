{
 "cells": [
  {
   "cell_type": "markdown",
   "id": "2e9f7f47-b9bb-46bc-baab-c5fd39cd5371",
   "metadata": {},
   "source": [
    "### Import libraries"
   ]
  },
  {
   "cell_type": "code",
   "execution_count": null,
   "id": "831565f0-6892-4b19-be96-db29b3c97b1a",
   "metadata": {},
   "outputs": [],
   "source": [
    "# Import libraries\n",
    "import pandas as pd\n",
    "import numpy as np\n",
    "import matplotlib.pyplot as plt\n",
    "%matplotlib inline"
   ]
  },
  {
   "cell_type": "markdown",
   "id": "95654129-3f06-42e3-90a1-0f58310031c5",
   "metadata": {},
   "source": [
    "### Customize "
   ]
  },
  {
   "cell_type": "code",
   "execution_count": null,
   "id": "f4c45dbc-ff6c-4d22-92e0-39cd81666476",
   "metadata": {},
   "outputs": [],
   "source": [
    "# Customize parameters\n",
    "my_input_file=\"0302 input_cost_data.csv\"\n",
    "my_regression=\"0302 regression_results.csv\"\n",
    "\n",
    "#Define % change levels \n",
    "percent_changes = [-15, -10, -5, 0, 5, 10, 15]\n",
    "\n",
    "# User-specified variable to analyze \n",
    "selected_driver = 'Labor_Hours'  "
   ]
  },
  {
   "cell_type": "markdown",
   "id": "1064fe5f-b40d-4382-be21-6833902a2217",
   "metadata": {},
   "source": [
    "### Load database and model"
   ]
  },
  {
   "cell_type": "code",
   "execution_count": null,
   "id": "d51fe4e9-bbcd-45f8-a5a5-3335073769c3",
   "metadata": {},
   "outputs": [],
   "source": [
    "# Load dataset \n",
    "input_file = my_input_file\n",
    "df = pd.read_csv(my_input_file)\n",
    "\n",
    "# Load regression coefficients from Excel\n",
    "coef_df = pd.read_csv(my_regression)\n",
    "coefficients = dict(zip(coef_df['Variable'], coef_df['Coefficient']))\n",
    "\n",
    "print(\"Coefficients loaded from Excel:\")\n",
    "print(coefficients)"
   ]
  },
  {
   "cell_type": "markdown",
   "id": "3ca6a020-06bb-44ba-a0f4-d31a8505fef1",
   "metadata": {},
   "source": [
    "### Build Correlation matrix"
   ]
  },
  {
   "cell_type": "code",
   "execution_count": null,
   "id": "952455ae-629c-4393-ab08-91f51d7ff657",
   "metadata": {},
   "outputs": [],
   "source": [
    "# Define correlation matrix\n",
    "correlation_matrix = df.corr()\n",
    "\n",
    "# Get base mean values\n",
    "driver_vars = [k for k in coefficients.keys() if k != 'const']\n",
    "mean_values = df[driver_vars].mean()"
   ]
  },
  {
   "cell_type": "markdown",
   "id": "9d515d7c-1bf4-4bf8-99f3-c24741294981",
   "metadata": {},
   "source": [
    "### Run sensitivity "
   ]
  },
  {
   "cell_type": "code",
   "execution_count": null,
   "id": "d5ca5b2d-ce7f-4158-8125-f025f2ad52ca",
   "metadata": {},
   "outputs": [],
   "source": [
    "# Run sensitivity scenarios \n",
    "results = []\n",
    "for pct in percent_changes:\n",
    "    adjusted = mean_values.copy()\n",
    "    driver_multiplier = 1 + (pct / 100)\n",
    "    adjusted[selected_driver] *= driver_multiplier\n",
    "\n",
    "    for other_var in adjusted.index:\n",
    "        if other_var != selected_driver:\n",
    "            corr = correlation_matrix.loc[selected_driver, other_var]\n",
    "            adjusted[other_var] *= (1 + corr * (pct / 100))\n",
    "\n",
    "    predicted_cost = coefficients['const']\n",
    "    for var in adjusted.index:\n",
    "        predicted_cost += coefficients[var] * adjusted[var]\n",
    "\n",
    "    results.append({\n",
    "        'Change (%)': pct,\n",
    "        'Selected_Driver': selected_driver,\n",
    "        **adjusted.to_dict(),\n",
    "        'Predicted_Overhead_Cost': predicted_cost\n",
    "    })\n"
   ]
  },
  {
   "cell_type": "markdown",
   "id": "2b4502e3-6fa2-4d1b-b233-13c331141052",
   "metadata": {},
   "source": [
    "### Create output, plot data, save results"
   ]
  },
  {
   "cell_type": "code",
   "execution_count": null,
   "id": "a058621b-9b1c-4555-bcbb-7c5d9439858d",
   "metadata": {
    "scrolled": true
   },
   "outputs": [],
   "source": [
    "\n",
    "# Output DataFrame \n",
    "output_df = pd.DataFrame(results)\n",
    "base_cost = output_df[output_df['Change (%)'] == 0]['Predicted_Overhead_Cost'].values[0]\n",
    "output_df['Cost_Difference'] = output_df['Predicted_Overhead_Cost'] - base_cost\n",
    "\n",
    "# Save to CSV \n",
    "output_csv = f\"0304 Sensitivity_{selected_driver}.csv\"\n",
    "output_df.to_csv(output_csv, index=False)\n",
    "print(f\"CSV file saved: {output_csv}\")\n",
    "\n",
    "# Plot the cost change \n",
    "plt.figure(figsize=(10, 6))\n",
    "plt.plot(output_df['Change (%)'], output_df['Cost_Difference'], marker='o')\n",
    "plt.axhline(0, linestyle='--', color='gray')\n",
    "plt.title(f'Overhead Cost Sensitivity to Changes in {selected_driver}')\n",
    "plt.xlabel(f'Change in {selected_driver} (%)')\n",
    "plt.ylabel('Change in Overhead Cost')\n",
    "plt.grid(True)\n",
    "plt.tight_layout()\n",
    "plot_file = f\"0304 Sensitivity_plot_{selected_driver}.png\"\n",
    "plt.savefig(plot_file)\n",
    "plt.show()\n",
    "\n",
    "\n",
    "print(f\"Plot saved: {plot_file}\")\n",
    "\n",
    "# Compute the slope and intercept of the simulated curve\n",
    "\n",
    "x = output_df['Change (%)'].values\n",
    "y = output_df['Cost_Difference'].values\n",
    "\n",
    "# Perform linear regression:\n",
    "slope, intercept = np.polyfit(x, y, 1)\n",
    "\n",
    "print(f\"Slope of the plotted line: {slope:.4f}\")\n",
    "print(f\"Intercept of the plotted line: {intercept:.4f}\")\n"
   ]
  },
  {
   "cell_type": "code",
   "execution_count": null,
   "id": "137bb50a-5689-4d42-81a0-7807faebbae7",
   "metadata": {},
   "outputs": [],
   "source": []
  }
 ],
 "metadata": {
  "kernelspec": {
   "display_name": "Python 3 (ipykernel)",
   "language": "python",
   "name": "python3"
  },
  "language_info": {
   "codemirror_mode": {
    "name": "ipython",
    "version": 3
   },
   "file_extension": ".py",
   "mimetype": "text/x-python",
   "name": "python",
   "nbconvert_exporter": "python",
   "pygments_lexer": "ipython3",
   "version": "3.12.7"
  }
 },
 "nbformat": 4,
 "nbformat_minor": 5
}
