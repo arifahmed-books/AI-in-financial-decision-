{
 "cells": [
  {
   "cell_type": "markdown",
   "id": "fa72b6e2-967e-456c-8695-1f02596f989d",
   "metadata": {},
   "source": [
    "### Import libraries"
   ]
  },
  {
   "cell_type": "code",
   "execution_count": 55,
   "id": "40cc721f-855a-418a-9699-2c7d5ae1961c",
   "metadata": {},
   "outputs": [],
   "source": [
    "# Import necessary libraries\n",
    "import pulp\n",
    "import pandas as pd"
   ]
  },
  {
   "cell_type": "markdown",
   "id": "87b3afef-399d-4f31-a58e-57e0f4b01278",
   "metadata": {},
   "source": [
    "### Customize"
   ]
  },
  {
   "cell_type": "code",
   "execution_count": 56,
   "id": "45ea95a7-33e8-4d9c-968e-376b1d7e35bc",
   "metadata": {},
   "outputs": [],
   "source": [
    "# Provide customizable paraneters \n",
    "products       = [\"Chair\", \"Table\", \"Bookshelf\"]\n",
    "profit_per_unit= [228, 306, 482]\n",
    "cost_per_unit  = [272, 544, 668]\n",
    "min_demand     = [10000, 7000, 6000]\n",
    "max_demand     = [17000, 13000, 11000]\n",
    "labour_hours   = [1, 2, 1.5]\n",
    "wood_units     = [20, 40, 50]\n",
    "\n",
    "total_labour_available = 45000\n",
    "total_wood_available = 1300000\n",
    "minimum_profit     = 8000000\n",
    "\n",
    "my_output=\"0305 optimal_production_plan.csv\"\n",
    "my_currency=\"$\""
   ]
  },
  {
   "cell_type": "markdown",
   "id": "8568bd3d-a4ce-42a9-a1a5-31313ca320ad",
   "metadata": {},
   "source": [
    "### Define LP problem"
   ]
  },
  {
   "cell_type": "code",
   "execution_count": 57,
   "id": "387e4b33-a55e-485b-8e45-b52bf2b37bb0",
   "metadata": {},
   "outputs": [],
   "source": [
    "# Specify parameters for LP\n",
    "n = len(products)\n",
    "\n",
    "#  Define LP model \n",
    "\n",
    "# Maximize profit (Comment out if not using this)\n",
    "model = pulp.LpProblem(\"Profit_Maximization\", pulp.LpMaximize)\n",
    "\n",
    "# Minimize cost (Comment out if not using this)\n",
    "#model = pulp.LpProblem(\"Cost_Minimization\", pulp.LpMinimize)\n",
    " \n",
    "# Decision variables\n",
    "x = [pulp.LpVariable(f\"x_{i}\", lowBound=0, cat=\"Integer\") for i in range(n)]\n",
    "\n",
    "# Objective function: Maximize total profit, comment out for cost minimization\n",
    "model += pulp.lpSum([profit_per_unit[i] * x[i] for i in range(n)])\n",
    "\n",
    "# Objective function: Minimize total cost, comment out for profit maximization\n",
    "#model += pulp.lpSum([cost_per_unit[i] * x[i] for i in range(n)])\n",
    "\n",
    "# Common constraints\n",
    "model += pulp.lpSum([labour_hours[i] * x[i] for i in range(n)]) <= total_labour_available\n",
    "model += pulp.lpSum([wood_units[i] * x[i] for i in range(n)]) <= total_wood_available\n",
    "\n",
    "# Constraint for cost minimization \n",
    "#model += pulp.lpSum([profit_per_unit[i] * x[i] for i in range(n)]) >= minimum_profit\n",
    "\n",
    "#Demand constraint\n",
    "for i in range(n):\n",
    "    model += x[i] >= min_demand[i]\n",
    "    model += x[i] <= max_demand[i]"
   ]
  },
  {
   "cell_type": "markdown",
   "id": "3ebccd42-6536-41a7-850a-b0fbff6cd056",
   "metadata": {},
   "source": [
    "### Solve LP problem"
   ]
  },
  {
   "cell_type": "code",
   "execution_count": 58,
   "id": "a93388bd-e3c8-43bb-b435-d866b89ed9f2",
   "metadata": {},
   "outputs": [
    {
     "data": {
      "text/plain": [
       "1"
      ]
     },
     "execution_count": 58,
     "metadata": {},
     "output_type": "execute_result"
    }
   ],
   "source": [
    "# Solve the Problem\n",
    "model.solve()"
   ]
  },
  {
   "cell_type": "markdown",
   "id": "05d3c967-10ed-4e89-a142-19096c53ca8f",
   "metadata": {},
   "source": [
    "### Prepare summary and save results"
   ]
  },
  {
   "cell_type": "code",
   "execution_count": 59,
   "id": "aab10998-31d3-4a9a-9eea-5976d4b58da1",
   "metadata": {},
   "outputs": [],
   "source": [
    "# Print Results \n",
    "results = []\n",
    "total_profit = 0\n",
    "total_cost = 0\n",
    "total_labour_used = 0\n",
    "total_wood_used = 0\n",
    "\n",
    "for i in range(n):\n",
    "    qty = int(x[i].varValue)\n",
    "    total_line_cost = qty * cost_per_unit[i]\n",
    "    profit_value = qty * profit_per_unit[i]\n",
    "    labour_used = qty * labour_hours[i]\n",
    "    wood_used = qty * wood_units[i]\n",
    "\n",
    "    total_profit += profit_value\n",
    "    total_cost += total_line_cost\n",
    "    total_labour_used += labour_used\n",
    "    total_wood_used += wood_used\n",
    "\n",
    "    results.append({\n",
    "        \"Product\": products[i],\n",
    "        \"ProfitPerUnit\": profit_per_unit[i],\n",
    "        \"MinDemand\": min_demand[i],\n",
    "        \"MaxDemand\": max_demand[i],\n",
    "        \"LabourPerUnit\": labour_hours[i],\n",
    "        \"WoodPerUnit\": wood_units[i],\n",
    "        \"QtyProduced\": qty,\n",
    "        \"TotalCost\" :total_line_cost,\n",
    "        \"Profit\": profit_value,\n",
    "        \"LabourUsed\": labour_used,\n",
    "        \"WoodUsed\": wood_used\n",
    "    })\n"
   ]
  },
  {
   "cell_type": "code",
   "execution_count": 60,
   "id": "12fedfff-ca34-4357-9356-6ff726bdbab5",
   "metadata": {},
   "outputs": [
    {
     "name": "stdout",
     "output_type": "stream",
     "text": [
      "Total profit at optimal solution: $ 10750000\n",
      "Total cost at optimal solution: $ 15100000\n",
      "Total Labour Used: 45000.0 out of available 45000\n",
      "Total Wood Used: 1120000 out of available 1300000\n",
      "→ Chair: Produce 14500 units\n",
      "→ Table: Produce 7000 units\n",
      "→ Bookshelf: Produce 11000 units\n",
      "Results saved to 0305 optimal_production_plan.csv\n"
     ]
    }
   ],
   "source": [
    "# Add summary row\n",
    "results.append({\n",
    "    \"Product\": \"TOTAL\",\n",
    "    \"ProfitPerUnit\": \"\",\n",
    "    \"MinDemand\": \"\",\n",
    "    \"MaxDemand\": \"\",\n",
    "    \"LabourPerUnit\": \"\",\n",
    "    \"WoodPerUnit\": \"\",\n",
    "    \"QtyProduced\": \"\",\n",
    "    \"TotalCost\" :total_cost,\n",
    "    \"Profit\": total_profit,\n",
    "    \"LabourUsed\": total_labour_used,\n",
    "    \"WoodUsed\": total_wood_used\n",
    "})\n",
    "\n",
    "# Print results\n",
    "print(f\"Total profit at optimal solution: {my_currency} {total_profit}\")\n",
    "print(f\"Total cost at optimal solution: {my_currency} {total_cost}\")\n",
    "print(f\"Total Labour Used: {total_labour_used} out of available {total_labour_available}\")\n",
    "print(f\"Total Wood Used: {total_wood_used} out of available {total_wood_available}\")\n",
    "for r in results[:-1]:  \n",
    "    print(f\"→ {r['Product']}: Produce {r['QtyProduced']} units\")\n",
    "\n",
    "# Save to CSV ===\n",
    "df = pd.DataFrame(results)\n",
    "df.to_csv(my_output, index=False)\n",
    "print(f\"Results saved to {my_output}\")\n"
   ]
  },
  {
   "cell_type": "code",
   "execution_count": null,
   "id": "77f16b22-eb9b-4e9d-8415-c1eafef19843",
   "metadata": {},
   "outputs": [],
   "source": []
  }
 ],
 "metadata": {
  "kernelspec": {
   "display_name": "Python 3 (ipykernel)",
   "language": "python",
   "name": "python3"
  },
  "language_info": {
   "codemirror_mode": {
    "name": "ipython",
    "version": 3
   },
   "file_extension": ".py",
   "mimetype": "text/x-python",
   "name": "python",
   "nbconvert_exporter": "python",
   "pygments_lexer": "ipython3",
   "version": "3.12.7"
  }
 },
 "nbformat": 4,
 "nbformat_minor": 5
}
