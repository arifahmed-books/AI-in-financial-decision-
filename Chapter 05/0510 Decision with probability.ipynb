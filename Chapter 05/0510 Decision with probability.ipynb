{
 "cells": [
  {
   "cell_type": "markdown",
   "id": "34b46de2-d550-42d7-8c8c-6c5620b098fc",
   "metadata": {},
   "source": [
    "### Import libraries "
   ]
  },
  {
   "cell_type": "code",
   "execution_count": 5,
   "id": "453e6f65-eb13-4dd1-9c7f-b7ed5020a4ee",
   "metadata": {},
   "outputs": [],
   "source": [
    "# Load libraries\n",
    "import pandas as pd\n",
    "import matplotlib.pyplot as plt\n",
    "from sklearn.ensemble import RandomForestClassifier\n",
    "from sklearn.tree import export_text, plot_tree\n",
    "from sklearn.preprocessing import LabelEncoder\n",
    "import numpy as np"
   ]
  },
  {
   "cell_type": "markdown",
   "id": "1ad18e48-aed6-453c-b11c-ac8139b6d0fd",
   "metadata": {},
   "source": [
    "### Customize"
   ]
  },
  {
   "cell_type": "code",
   "execution_count": 6,
   "id": "86e86706-356d-4967-8e05-ad55bb431d78",
   "metadata": {},
   "outputs": [],
   "source": [
    "# Customize daya\n",
    "past_data_path = '0509 Decision tree past data.csv'\n",
    "new_data_path = '0509 Decision tree new data.csv'\n",
    "decision_file_path = '0510 decision.csv'\n",
    "rules_file_path = \"0510 decision_rules.txt\"\n",
    "\n",
    "# Explicitly define features and target\n",
    "features = ['Age', 'Income', 'Gender']\n",
    "target = 'Purchase'"
   ]
  },
  {
   "cell_type": "markdown",
   "id": "ef251144-925e-4613-af19-1f1c9a310ff9",
   "metadata": {},
   "source": [
    "### Load and clean past data "
   ]
  },
  {
   "cell_type": "code",
   "execution_count": 7,
   "id": "42f975e2-8568-4092-b836-bddf9a40742d",
   "metadata": {},
   "outputs": [
    {
     "name": "stdout",
     "output_type": "stream",
     "text": [
      "Past Data Columns: ['Cust_Id', 'Age', 'Income', 'Gender', 'Purchase']\n"
     ]
    }
   ],
   "source": [
    "# Load past data\n",
    "past_data = pd.read_csv(past_data_path)\n",
    "print(\"Past Data Columns:\", past_data.columns.tolist())  # Debugging line\n",
    "\n",
    "# Drop unnamed columns if they exist\n",
    "past_data = past_data.loc[:, ~past_data.columns.str.contains('^Unnamed')]\n",
    "\n",
    "# Ensure Age and Income are numeric\n",
    "past_data['Age'] = pd.to_numeric(past_data['Age'], errors='coerce')\n",
    "past_data['Income'] = pd.to_numeric(past_data['Income'], errors='coerce')\n",
    "\n",
    "# Encode categorical variable (Gender)\n",
    "label_encoders = {}\n",
    "if past_data['Gender'].dtype == 'object':\n",
    "    le = LabelEncoder()\n",
    "    past_data['Gender'] = le.fit_transform(past_data['Gender'])\n",
    "    label_encoders['Gender'] = le\n",
    "    print(\"Recognized Gender Classes in Past Data:\", le.classes_)  # Debugging line\n",
    "\n",
    "# Drop rows with missing values after conversions\n",
    "past_data = past_data.dropna()"
   ]
  },
  {
   "cell_type": "markdown",
   "id": "e0b37a9f-39f1-4b01-8639-63c573738a6e",
   "metadata": {},
   "source": [
    "### Train data and save decision rules with Random Forest"
   ]
  },
  {
   "cell_type": "code",
   "execution_count": 8,
   "id": "8eb6316c-302a-4afa-a959-cfe951988982",
   "metadata": {},
   "outputs": [
    {
     "name": "stdout",
     "output_type": "stream",
     "text": [
      "Decision rules saved to 0510 decision_rules.txt\n"
     ]
    }
   ],
   "source": [
    "# Compute probabilities for decision paths\n",
    "def compute_decision_probabilities(model, X):\n",
    "    probabilities = model.predict_proba(X)\n",
    "    return probabilities\n",
    "\n",
    "# Convert decision rules to plain English\n",
    "def explain_decision_tree(rules):\n",
    "    lines = rules.split(\"\\n\")\n",
    "    explanation = []\n",
    "    for line in lines:\n",
    "        depth = line.count(\"|\")\n",
    "        condition = line.split(\"-\")[-1].strip()\n",
    "        if \"class\" in condition:\n",
    "            explanation.append(\"  \" * depth + f\"THEN the decision is: {condition.replace('class:', '').strip()}\")\n",
    "        else:\n",
    "            explanation.append(\"  \" * depth + f\"IF {condition}\")\n",
    "    return \"\\n\".join(explanation)\n",
    "\n",
    "# Train Random Forest Classifier\n",
    "X_train = past_data[features]\n",
    "y_train = past_data[target]\n",
    "rf_model = RandomForestClassifier(n_estimators=100, random_state=42)\n",
    "rf_model.fit(X_train, y_train)\n",
    "\n",
    "# Get rules from one decision tree\n",
    "tree = rf_model.estimators_[0]\n",
    "rules = export_text(tree, feature_names=features)\n",
    "\n",
    "# Convert and save decision rules to plain English\n",
    "plain_rules = explain_decision_tree(rules)\n",
    "with open(rules_file_path, 'w') as file:\n",
    "    file.write(plain_rules)\n",
    "print(f\"Decision rules saved to {rules_file_path}\")\n"
   ]
  },
  {
   "cell_type": "markdown",
   "id": "857d359c-0b3b-4170-a4b9-5e568bc3f9d1",
   "metadata": {},
   "source": [
    "### Use decision tree on new data and print rewsults "
   ]
  },
  {
   "cell_type": "code",
   "execution_count": 9,
   "id": "b56cb7ef-b7b3-46cb-b175-a64eaf84fc1f",
   "metadata": {},
   "outputs": [
    {
     "name": "stdout",
     "output_type": "stream",
     "text": [
      "New Data Columns: ['Cust_Id', 'Age', 'Income', 'Gender']\n",
      "New Data Before Gender Encoding:\n",
      "    Cust_Id  Age  Income  Gender\n",
      "0     1001   42  129521       1\n",
      "1     1002   39   89277       0\n",
      "2     1003   34   83659       0\n",
      "3     1004   56  188839       0\n",
      "4     1005   47   99501       0\n",
      "New Data After Gender Encoding:\n",
      "    Cust_Id  Age  Income  Gender\n",
      "0     1001   42  129521       1\n",
      "1     1002   39   89277       0\n",
      "2     1003   34   83659       0\n",
      "3     1004   56  188839       0\n",
      "4     1005   47   99501       0\n",
      "Dropped Rows:\n",
      " Empty DataFrame\n",
      "Columns: [Cust_Id, Age, Income, Gender]\n",
      "Index: []\n",
      "Predicted Purchase Decisions for New Customers:\n",
      "    Cust_Id  Age  Income  Gender  Purchase Decision  Purchase Probability\n",
      "0      1001   42  129521       1                  0                  0.08\n",
      "1      1002   39   89277       0                  1                  0.80\n",
      "2      1003   34   83659       0                  0                  0.22\n",
      "3      1004   56  188839       0                  0                  0.38\n",
      "4      1005   47   99501       0                  1                  0.80\n",
      "5      1006   43  126594       1                  1                  0.71\n",
      "6      1007   58  177536       0                  1                  0.80\n",
      "7      1008   39   92203       1                  0                  0.25\n",
      "8      1009   32   76986       1                  1                  0.79\n",
      "9      1010   23   66757       1                  0                  0.40\n",
      "10     1011   57  167905       0                  1                  0.55\n",
      "11     1012   36   70990       0                  1                  0.76\n",
      "12     1013   45  106740       1                  1                  0.88\n",
      "13     1014   35   97712       0                  0                  0.17\n",
      "14     1015   60  178640       0                  1                  0.97\n",
      "15     1016   38   77679       0                  1                  0.91\n",
      "16     1017   41   99773       0                  1                  0.92\n",
      "17     1018   29   72720       0                  0                  0.30\n",
      "18     1019   45  119668       1                  0                  0.27\n",
      "19     1020   44  128366       0                  0                  0.40\n",
      "20     1021   38   96365       1                  1                  0.61\n",
      "21     1022   55  144387       1                  1                  0.74\n",
      "22     1023   43  124474       0                  0                  0.25\n",
      "23     1024   26   67392       0                  0                  0.29\n",
      "24     1025   25   77995       0                  0                  0.47\n",
      "25     1026   40  103262       0                  0                  0.33\n",
      "26     1027   49  124713       1                  1                  0.72\n",
      "27     1028   58  198542       1                  1                  0.82\n",
      "28     1029   54  139204       0                  0                  0.35\n",
      "29     1030   42  106854       0                  1                  0.90\n",
      "30     1031   41  124273       0                  1                  0.83\n",
      "31     1032   41  117321       1                  1                  0.96\n",
      "32     1033   36   90795       1                  1                  0.64\n",
      "33     1034   35   85135       0                  0                  0.10\n",
      "34     1035   59  172233       0                  1                  0.83\n",
      "35     1036   32   95284       1                  0                  0.34\n",
      "36     1037   27   72820       1                  1                  0.79\n",
      "37     1038   50  154385       0                  1                  0.83\n",
      "38     1039   56  125205       1                  0                  0.36\n",
      "39     1040   24   61099       0                  1                  0.61\n",
      "40     1041   34   98586       0                  1                  0.72\n",
      "41     1042   50  132336       0                  1                  0.53\n",
      "42     1043   30   97186       1                  0                  0.17\n",
      "43     1044   56  168700       0                  0                  0.42\n",
      "44     1045   57  133366       1                  0                  0.33\n",
      "45     1046   58  142083       1                  0                  0.49\n",
      "46     1047   46  121549       0                  0                  0.47\n",
      "47     1048   54  137767       1                  0                  0.30\n",
      "48     1049   49  123112       0                  1                  0.57\n",
      "49     1050   48  127072       0                  0                  0.17\n",
      "Predictions saved to 0510 decision.csv\n"
     ]
    }
   ],
   "source": [
    "# Load new customer data\n",
    "new_data = pd.read_csv(new_data_path)\n",
    "print(\"New Data Columns:\", new_data.columns.tolist())  # Debugging line\n",
    "\n",
    "# Drop unnamed columns if they exist\n",
    "new_data = new_data.loc[:, ~new_data.columns.str.contains('^Unnamed')]\n",
    "\n",
    "# Ensure new data has the same structure\n",
    "if not all(col in new_data.columns for col in features):\n",
    "    raise ValueError(\"Missing expected columns in new customer data\")\n",
    "\n",
    "# Convert Age and Income to numeric\n",
    "new_data['Age'] = pd.to_numeric(new_data['Age'], errors='coerce')\n",
    "new_data['Income'] = pd.to_numeric(new_data['Income'], errors='coerce')\n",
    "\n",
    "print(\"New Data Before Gender Encoding:\\n\", new_data.head())  # Debugging line\n",
    "\n",
    "# Encode Gender using the same encoder\n",
    "if 'Gender' in label_encoders:\n",
    "    known_genders = label_encoders['Gender'].classes_\n",
    "    print(\"Recognized Gender Classes in Model:\", known_genders)  # Debugging line\n",
    "    new_data['Gender'] = new_data['Gender'].apply(lambda x: label_encoders['Gender'].transform([x])[0] if x in known_genders else np.nan)\n",
    "\n",
    "print(\"New Data After Gender Encoding:\\n\", new_data.head())  # Debugging line\n",
    "\n",
    "# Drop rows with NaN values\n",
    "new_data_before_drop = new_data.copy()\n",
    "new_data = new_data.dropna()\n",
    "print(\"Dropped Rows:\\n\", new_data_before_drop.loc[~new_data_before_drop.index.isin(new_data.index)])  # Debugging line\n",
    "\n",
    "new_data_copy = new_data.copy()\n",
    "\n",
    "# Ensure new data has the same features as training data\n",
    "new_data = new_data[features]\n",
    "\n",
    "# Preserve all original fields while extracting only features for \n",
    "X_new = new_data_copy[features]\n",
    "\n",
    "# Predict purchase decision for new customers and compute probabilities\n",
    "if not X_new.empty:\n",
    "    predictions = rf_model.predict(X_new)\n",
    "    probabilities = compute_decision_probabilities(rf_model, X_new)\n",
    "    new_data_copy['Purchase Decision'] = predictions\n",
    "    new_data_copy['Purchase Probability'] = probabilities[:, 1]  # Probability of 'Purchase'\n",
    "    print(\"Predicted Purchase Decisions for New Customers:\")\n",
    "    print(new_data_copy)\n",
    "    \n",
    "    # Save predictions and probabilities to a new file\n",
    "    new_data_copy.to_csv(decision_file_path, index=False)\n",
    "    print(f\"Predictions saved to {decision_file_path}\")\n",
    "else:\n",
    "    print(\"No valid data available for prediction after encoding.\")\n"
   ]
  },
  {
   "cell_type": "code",
   "execution_count": null,
   "id": "a74ecc05-643a-458c-ae46-0b729f216434",
   "metadata": {},
   "outputs": [],
   "source": []
  }
 ],
 "metadata": {
  "kernelspec": {
   "display_name": "Python 3 (ipykernel)",
   "language": "python",
   "name": "python3"
  },
  "language_info": {
   "codemirror_mode": {
    "name": "ipython",
    "version": 3
   },
   "file_extension": ".py",
   "mimetype": "text/x-python",
   "name": "python",
   "nbconvert_exporter": "python",
   "pygments_lexer": "ipython3",
   "version": "3.13.2"
  }
 },
 "nbformat": 4,
 "nbformat_minor": 5
}
