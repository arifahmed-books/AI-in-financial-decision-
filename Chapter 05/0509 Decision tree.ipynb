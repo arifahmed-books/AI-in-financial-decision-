{
 "cells": [
  {
   "cell_type": "markdown",
   "id": "fcbea337-17b7-452a-b7f5-83a7b355471d",
   "metadata": {},
   "source": [
    "### Import libraries"
   ]
  },
  {
   "cell_type": "code",
   "execution_count": 19,
   "id": "25c641e4-f9df-4856-a8e9-bbcf24036d47",
   "metadata": {},
   "outputs": [],
   "source": [
    "\n",
    "# Import libraries\n",
    "import pandas as pd\n",
    "import matplotlib.pyplot as plt\n",
    "from sklearn.tree import DecisionTreeClassifier, export_text, plot_tree\n",
    "from sklearn.preprocessing import LabelEncoder\n",
    "import numpy as np"
   ]
  },
  {
   "cell_type": "markdown",
   "id": "2a966a68-e5d6-4454-ac58-89799005e185",
   "metadata": {},
   "source": [
    "### Customize"
   ]
  },
  {
   "cell_type": "code",
   "execution_count": 21,
   "id": "28da195d-ba01-4785-b79b-a5bc01a8e404",
   "metadata": {},
   "outputs": [],
   "source": [
    "# Specify file names\n",
    "past_data_path = '0509 Decision tree past data.csv'\n",
    "new_data_path = '0509 Decision tree new data.csv'\n",
    "tree_image_path = \"0509 decision_tree.png\"\n",
    "rules_file_path = \"0509 decision_rules.txt\"\n",
    "decision_file_path = '0509 decision.csv'\n",
    "\n",
    "# Explicitly define features and target\n",
    "features = ['Age', 'Income', 'Gender']\n",
    "target = 'Purchase'"
   ]
  },
  {
   "cell_type": "markdown",
   "id": "d547cfbb-a1fe-4da3-8e4b-5f78395a023d",
   "metadata": {},
   "source": [
    "### Load and clean past data"
   ]
  },
  {
   "cell_type": "code",
   "execution_count": 23,
   "id": "f87fff57-773b-4378-85d5-80e8379d0043",
   "metadata": {},
   "outputs": [
    {
     "name": "stdout",
     "output_type": "stream",
     "text": [
      "Past Data Columns: ['Cust_Id', 'Age', 'Income', 'Gender', 'Purchase']\n"
     ]
    }
   ],
   "source": [
    "# Load past data \n",
    "past_data = pd.read_csv(past_data_path)\n",
    "print(\"Past Data Columns:\", past_data.columns.tolist())  # Debugging line\n",
    "\n",
    "# Drop unnamed columns if they exist\n",
    "past_data = past_data.loc[:, ~past_data.columns.str.contains('^Unnamed')]\n",
    "\n",
    "# Ensure Age and Income are numeric\n",
    "past_data['Age'] = pd.to_numeric(past_data['Age'], errors='coerce')\n",
    "past_data['Income'] = pd.to_numeric(past_data['Income'], errors='coerce')\n",
    "\n",
    "# Encode categorical variable (Gender)\n",
    "label_encoders = {}\n",
    "if past_data['Gender'].dtype == 'object':\n",
    "    le = LabelEncoder()\n",
    "    past_data['Gender'] = le.fit_transform(past_data['Gender'])\n",
    "    label_encoders['Gender'] = le\n",
    "    print(\"Recognized Gender Classes in Past Data:\", le.classes_)  # Debugging line\n",
    "\n",
    "# Drop rows with missing values after conversions\n",
    "past_data = past_data.dropna()"
   ]
  },
  {
   "cell_type": "markdown",
   "id": "b0cf69bc-4236-4aa4-a712-095fedb740d6",
   "metadata": {},
   "source": [
    "### Train and save Decision Tree and decision rules"
   ]
  },
  {
   "cell_type": "code",
   "execution_count": 25,
   "id": "b2395ab9-1173-4f6f-a1f0-804cd7c74910",
   "metadata": {},
   "outputs": [
    {
     "name": "stdout",
     "output_type": "stream",
     "text": [
      "Decision tree diagram saved to 0509 decision_tree.png\n",
      "Decision rules saved to 0509 decision_rules.txt\n"
     ]
    }
   ],
   "source": [
    "# Train Decision Tree\n",
    "X_train = past_data[features]\n",
    "y_train = past_data[target]\n",
    "dt_model = DecisionTreeClassifier()\n",
    "dt_model.fit(X_train, y_train)\n",
    "\n",
    "# Save decision tree diagram \n",
    "plt.figure(figsize=(16, 10), dpi=300)\n",
    "plot_tree(dt_model, feature_names=features, class_names=[\"No Purchase\", \"Purchase\"], filled=True, fontsize=10, rounded=True, precision=2)\n",
    "plt.savefig(tree_image_path, bbox_inches='tight')\n",
    "plt.close()\n",
    "print(f\"Decision tree diagram saved to {tree_image_path}\")\n",
    "\n",
    "# Convert decision rules to plain English\n",
    "def explain_decision_tree(rules):\n",
    "    lines = rules.split(\"\\n\")\n",
    "    explanation = []\n",
    "    for line in lines:\n",
    "        depth = line.count(\"|\")\n",
    "        condition = line.split(\"-\")[-1].strip()\n",
    "        if \"class\" in condition:\n",
    "            explanation.append(\"  \" * depth + f\"THEN the decision is: {condition.replace('class:', '').strip()}\")\n",
    "        else:\n",
    "            explanation.append(\"  \" * depth + f\"IF {condition}\")\n",
    "    return \"\\n\".join(explanation)\n",
    "\n",
    "rules = export_text(dt_model, feature_names=features, spacing=3)\n",
    "plain_english_rules = explain_decision_tree(rules)\n",
    "\n",
    "# Save decision rules in plain English to a file\n",
    "with open(rules_file_path, \"w\") as f:\n",
    "    f.write(plain_english_rules)\n",
    "print(f\"Decision rules saved to {rules_file_path}\")"
   ]
  },
  {
   "cell_type": "markdown",
   "id": "abd10dc2-d3df-4531-93fa-e65ac88f4c56",
   "metadata": {},
   "source": [
    "### Use decision tree on new data and print results "
   ]
  },
  {
   "cell_type": "code",
   "execution_count": 27,
   "id": "2a41ba59-ec30-4d9f-a97f-57d10965d152",
   "metadata": {},
   "outputs": [
    {
     "name": "stdout",
     "output_type": "stream",
     "text": [
      "New Data Columns: ['Cust_Id', 'Age', 'Income', 'Gender']\n",
      "New Data Before Gender Encoding:\n",
      "    Cust_Id  Age  Income  Gender\n",
      "0     1001   42  129521       1\n",
      "1     1002   39   89277       0\n",
      "2     1003   34   83659       0\n",
      "3     1004   56  188839       0\n",
      "4     1005   47   99501       0\n",
      "New Data After Gender Encoding:\n",
      "    Cust_Id  Age  Income  Gender\n",
      "0     1001   42  129521       1\n",
      "1     1002   39   89277       0\n",
      "2     1003   34   83659       0\n",
      "3     1004   56  188839       0\n",
      "4     1005   47   99501       0\n",
      "Dropped Rows:\n",
      " Empty DataFrame\n",
      "Columns: [Cust_Id, Age, Income, Gender]\n",
      "Index: []\n",
      "Predicted Purchase Decisions for New Customers:\n",
      "    Cust_Id  Age  Income  Gender  Purchase Decision\n",
      "0      1001   42  129521       1                  0\n",
      "1      1002   39   89277       0                  1\n",
      "2      1003   34   83659       0                  1\n",
      "3      1004   56  188839       0                  0\n",
      "4      1005   47   99501       0                  1\n",
      "5      1006   43  126594       1                  1\n",
      "6      1007   58  177536       0                  0\n",
      "7      1008   39   92203       1                  1\n",
      "8      1009   32   76986       1                  1\n",
      "9      1010   23   66757       1                  0\n",
      "10     1011   57  167905       0                  0\n",
      "11     1012   36   70990       0                  1\n",
      "12     1013   45  106740       1                  1\n",
      "13     1014   35   97712       0                  0\n",
      "14     1015   60  178640       0                  1\n",
      "15     1016   38   77679       0                  1\n",
      "16     1017   41   99773       0                  1\n",
      "17     1018   29   72720       0                  0\n",
      "18     1019   45  119668       1                  0\n",
      "19     1020   44  128366       0                  1\n",
      "20     1021   38   96365       1                  0\n",
      "21     1022   55  144387       1                  1\n",
      "22     1023   43  124474       0                  0\n",
      "23     1024   26   67392       0                  1\n",
      "24     1025   25   77995       0                  0\n",
      "25     1026   40  103262       0                  1\n",
      "26     1027   49  124713       1                  1\n",
      "27     1028   58  198542       1                  1\n",
      "28     1029   54  139204       0                  1\n",
      "29     1030   42  106854       0                  0\n",
      "30     1031   41  124273       0                  0\n",
      "31     1032   41  117321       1                  1\n",
      "32     1033   36   90795       1                  0\n",
      "33     1034   35   85135       0                  0\n",
      "34     1035   59  172233       0                  1\n",
      "35     1036   32   95284       1                  1\n",
      "36     1037   27   72820       1                  1\n",
      "37     1038   50  154385       0                  0\n",
      "38     1039   56  125205       1                  0\n",
      "39     1040   24   61099       0                  1\n",
      "40     1041   34   98586       0                  0\n",
      "41     1042   50  132336       0                  1\n",
      "42     1043   30   97186       1                  0\n",
      "43     1044   56  168700       0                  0\n",
      "44     1045   57  133366       1                  1\n",
      "45     1046   58  142083       1                  0\n",
      "46     1047   46  121549       0                  1\n",
      "47     1048   54  137767       1                  0\n",
      "48     1049   49  123112       0                  0\n",
      "49     1050   48  127072       0                  0\n",
      "Predictions saved to 0509 decision.csv\n"
     ]
    }
   ],
   "source": [
    "# Load new customer data\n",
    "new_data = pd.read_csv(new_data_path)\n",
    "\n",
    "print(\"New Data Columns:\", new_data.columns.tolist())  # Debugging line\n",
    "\n",
    "# Drop unnamed columns if they exist\n",
    "new_data = new_data.loc[:, ~new_data.columns.str.contains('^Unnamed')]\n",
    "\n",
    "# Ensure new data has the same structure\n",
    "if not all(col in new_data.columns for col in features):\n",
    "    raise ValueError(\"Missing expected columns in new customer data\")\n",
    "\n",
    "# Convert Age and Income to numeric\n",
    "new_data['Age'] = pd.to_numeric(new_data['Age'], errors='coerce')\n",
    "new_data['Income'] = pd.to_numeric(new_data['Income'], errors='coerce')\n",
    "\n",
    "print(\"New Data Before Gender Encoding:\\n\", new_data.head())  # Debugging line\n",
    "\n",
    "# Encode Gender using the same encoder\n",
    "if 'Gender' in label_encoders:\n",
    "    known_genders = label_encoders['Gender'].classes_\n",
    "    print(\"Recognized Gender Classes in Model:\", known_genders)  # Debugging line\n",
    "    new_data['Gender'] = new_data['Gender'].apply(lambda x: label_encoders['Gender'].transform([x])[0] if x in known_genders else np.nan)\n",
    "\n",
    "print(\"New Data After Gender Encoding:\\n\", new_data.head())  # Debugging line\n",
    "\n",
    "# Drop rows with NaN values\n",
    "new_data_before_drop = new_data.copy()\n",
    "new_data = new_data.dropna()\n",
    "print(\"Dropped Rows:\\n\", new_data_before_drop.loc[~new_data_before_drop.index.isin(new_data.index)])  # Debugging line\n",
    "\n",
    "new_data_copy = new_data.copy()\n",
    "\n",
    "# Ensure new data has the same features as training data\n",
    "new_data = new_data[features]\n",
    "\n",
    "# Preserve all original fields while extracting only features for \n",
    "X_new = new_data_copy[features]\n",
    "\n",
    "# Predict purchase decision for new customers\n",
    "if not X_new.empty:\n",
    "    predictions = dt_model.predict(X_new)\n",
    "    new_data_copy['Purchase Decision'] = predictions\n",
    "    print(\"Predicted Purchase Decisions for New Customers:\")\n",
    "    print(new_data_copy)\n",
    "    \n",
    "    # Save predictions with all original fields\n",
    "    new_data_copy.to_csv(decision_file_path, index=False)\n",
    "    print(f\"Predictions saved to {decision_file_path}\")\n",
    "else:\n",
    "    print(\"No valid data available for prediction after encoding.\")\n"
   ]
  },
  {
   "cell_type": "code",
   "execution_count": null,
   "id": "4597e6a9-5929-4dff-b780-d37aec6a8e98",
   "metadata": {},
   "outputs": [],
   "source": []
  }
 ],
 "metadata": {
  "kernelspec": {
   "display_name": "Python [conda env:base] *",
   "language": "python",
   "name": "conda-base-py"
  },
  "language_info": {
   "codemirror_mode": {
    "name": "ipython",
    "version": 3
   },
   "file_extension": ".py",
   "mimetype": "text/x-python",
   "name": "python",
   "nbconvert_exporter": "python",
   "pygments_lexer": "ipython3",
   "version": "3.12.7"
  }
 },
 "nbformat": 4,
 "nbformat_minor": 5
}
