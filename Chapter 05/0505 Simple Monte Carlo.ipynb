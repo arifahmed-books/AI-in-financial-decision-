{
 "cells": [
  {
   "cell_type": "markdown",
   "id": "ebf07d51-bfdb-4174-9051-34230d9c38b4",
   "metadata": {},
   "source": [
    "### Import libraries"
   ]
  },
  {
   "cell_type": "code",
   "execution_count": 25,
   "id": "c01a074a-fddb-4662-b803-eead79a7338b",
   "metadata": {},
   "outputs": [],
   "source": [
    "import numpy as np\n",
    "import pandas as pd"
   ]
  },
  {
   "cell_type": "markdown",
   "id": "971fccc0-3995-459b-bc75-4cb2eaf568fb",
   "metadata": {},
   "source": [
    "### Customize"
   ]
  },
  {
   "cell_type": "code",
   "execution_count": 26,
   "id": "4aa48771-22b4-4bfd-b8af-6f12ec70da97",
   "metadata": {},
   "outputs": [],
   "source": [
    "# Provide name of the CSV file to save/load the raw data\n",
    "my_raw_data='0505 simulation_raw_data.csv'\n",
    "\n",
    "# Provide name of the CSV file to save the clean data\n",
    "my_clean_data= '0505 simulation_clean_data.csv'\n",
    "\n",
    "# Provide name of the CSV file to save the simulated data\n",
    "my_simulated_data='0505 simulation_values.csv'\n",
    "\n",
    "# Provide number of days over which return is to be computed\n",
    "return_days=10\n",
    "\n",
    "# Provide number of simulation runs\n",
    "simulation_runs=10000\n",
    "\n",
    "# Provide and lower and upper confidence levels \n",
    "my_lower_limit=2.5\n",
    "my_upper_limit=97.5\n"
   ]
  },
  {
   "cell_type": "markdown",
   "id": "a4bab577-4b7c-45b1-b2c5-6272c20ec48f",
   "metadata": {},
   "source": [
    "### Load raw data and compute return"
   ]
  },
  {
   "cell_type": "code",
   "execution_count": 27,
   "id": "656e7dcb-5272-4ed0-ab8e-01353cb9df6c",
   "metadata": {},
   "outputs": [
    {
     "name": "stderr",
     "output_type": "stream",
     "text": [
      "C:\\Users\\ahmed\\AppData\\Local\\Temp\\ipykernel_2076\\3228763819.py:2: UserWarning: Could not infer format, so each element will be parsed individually, falling back to `dateutil`. To ensure parsing is consistent and as-expected, please specify a format.\n",
      "  raw_data = pd.read_csv(my_raw_data, index_col='Date', parse_dates=True)\n"
     ]
    }
   ],
   "source": [
    "#Load the downloaded file into a DataFrame\n",
    "raw_data = pd.read_csv(my_raw_data, index_col='Date', parse_dates=True)\n",
    "\n",
    "# Calculate returns for specified date\n",
    "raw_data['Return'] = np.log(raw_data['Close'] / raw_data['Close'].shift(return_days))"
   ]
  },
  {
   "cell_type": "markdown",
   "id": "54d83897-c3d4-4ec9-9d6b-ef1c8359069b",
   "metadata": {},
   "source": [
    "### Clean up and save data"
   ]
  },
  {
   "cell_type": "code",
   "execution_count": 28,
   "id": "ad72a2de-658f-41ce-b10d-2d595d031cca",
   "metadata": {},
   "outputs": [],
   "source": [
    "# Drop NaN values in any column\n",
    "processed_data = raw_data.dropna()\n",
    "\n",
    "# Save the cleaned DataFrame with Date, Adj Close, and Return\n",
    "processed_data[['Close', 'Return']].to_csv(my_clean_data, index_label='Date')"
   ]
  },
  {
   "cell_type": "markdown",
   "id": "52cdf6cf-c4c6-422c-a6ee-7ea7be8cca70",
   "metadata": {},
   "source": [
    "### Load data and simulate "
   ]
  },
  {
   "cell_type": "code",
   "execution_count": 29,
   "id": "9e8f16dc-e81b-4f2d-857e-94dcc9d3e0e4",
   "metadata": {},
   "outputs": [],
   "source": [
    "# Load only the 'Return' column from the saved file\n",
    "data = pd.read_csv(my_clean_data, usecols=['Return'])\n",
    "\n",
    "# Simulate specified days of returns using historical mean and std dev\n",
    "simulated_returns = np.random.normal(data['Return'].mean(), data['Return'].std(), simulation_runs)"
   ]
  },
  {
   "cell_type": "markdown",
   "id": "7da68ab8-f37b-466f-a59a-0e7efd794436",
   "metadata": {},
   "source": [
    "### Compute simulated values"
   ]
  },
  {
   "cell_type": "code",
   "execution_count": 30,
   "id": "7fedc1f3-2c2d-4ef9-8efe-e10c5ac642eb",
   "metadata": {},
   "outputs": [],
   "source": [
    "# Load last close price\n",
    "last_price = np.round(processed_data['Close'].iloc[-1], 2)\n",
    "\n",
    "# Apply simulated returns independently to forecast  values\n",
    "forecasted_values = np.round(last_price * np.exp(simulated_returns), 2)"
   ]
  },
  {
   "cell_type": "markdown",
   "id": "5e606698-696a-46ba-bbcf-1559a5f0369b",
   "metadata": {},
   "source": [
    "### Save simulated values"
   ]
  },
  {
   "cell_type": "code",
   "execution_count": 31,
   "id": "ea52c577-c0a4-4bec-a05a-e9a63134d241",
   "metadata": {},
   "outputs": [],
   "source": [
    "# Create DataFrame for simulations\n",
    "simulation_df = pd.DataFrame({\n",
    "    'Simulated Returns': np.round(simulated_returns, 4),  \n",
    "    'Simulated Index Values': forecasted_values\n",
    "})\n",
    "\n",
    "# Confidence intervals\n",
    "confidence_interval = np.percentile(forecasted_values, [my_lower_limit, my_upper_limit])\n",
    "\n",
    "# Export to CSV\n",
    "simulation_df.to_csv(my_simulated_data, index=False)"
   ]
  },
  {
   "cell_type": "markdown",
   "id": "7ddefa9d-2b21-4a52-b20c-648b27dbf2fc",
   "metadata": {},
   "source": [
    "### Print results"
   ]
  },
  {
   "cell_type": "code",
   "execution_count": 32,
   "id": "327ee10b-17d2-4fa2-82ae-8a2a69ccf5cb",
   "metadata": {},
   "outputs": [
    {
     "name": "stdout",
     "output_type": "stream",
     "text": [
      "Forecasted values based on the last price of 5886.55\n",
      "There is a 2.5% probability that price would fall below 5420.58\n",
      "and a 97.5% probability that price would not go above: 6340.39\n"
     ]
    }
   ],
   "source": [
    "# Print confidence intervals\n",
    "print(f\"Forecasted values based on the last price of {last_price}\")\n",
    "print(f\"There is a {my_lower_limit}% probability that price would fall below {confidence_interval[0]:.2f}\")\n",
    "print(f\"and a {my_upper_limit}% probability that price would not go above: {confidence_interval[1]:.2f}\")\n"
   ]
  },
  {
   "cell_type": "code",
   "execution_count": null,
   "id": "6133466e-54c9-4bfc-a272-d05948d803b3",
   "metadata": {},
   "outputs": [],
   "source": []
  }
 ],
 "metadata": {
  "kernelspec": {
   "display_name": "Python 3 (ipykernel)",
   "language": "python",
   "name": "python3"
  },
  "language_info": {
   "codemirror_mode": {
    "name": "ipython",
    "version": 3
   },
   "file_extension": ".py",
   "mimetype": "text/x-python",
   "name": "python",
   "nbconvert_exporter": "python",
   "pygments_lexer": "ipython3",
   "version": "3.13.2"
  }
 },
 "nbformat": 4,
 "nbformat_minor": 5
}
